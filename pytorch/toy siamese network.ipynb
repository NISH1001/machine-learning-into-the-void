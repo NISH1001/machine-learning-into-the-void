{
 "cells": [
  {
   "cell_type": "markdown",
   "metadata": {
    "id": "wP7G8cfgaFV6"
   },
   "source": [
    "# What the F is this about?\n",
    "\n",
    "This is the simplest siamese network to be in existence.\n",
    "It compares if two numbers are of same sign.\n",
    "\n",
    "\n",
    "If they are of same signs (+, +) or (-, -), it will give you high score.\n",
    "\n",
    "Else low.\n",
    "## References\n",
    "https://colab.research.google.com/drive/1FsixLon5Zz3_rFA0xIHzc8Tvnnw8FLr8#scrollTo=6aUJOhkrFfu9"
   ]
  },
  {
   "cell_type": "code",
   "execution_count": 2,
   "metadata": {
    "id": "q7lR4r-JBuNh"
   },
   "outputs": [],
   "source": [
    "import numpy as np\n",
    "import pandas as pd\n",
    "import cv2\n",
    "import matplotlib.pyplot as plt\n",
    "\n",
    "plt.rcParams[\"figure.figsize\"] = (30,25)"
   ]
  },
  {
   "cell_type": "code",
   "execution_count": 3,
   "metadata": {
    "id": "n0DdNxHkCCUH"
   },
   "outputs": [],
   "source": [
    "import torch\n",
    "import torch.utils.data as utils\n",
    "from torchvision import datasets\n",
    "import torchvision.transforms as transforms\n",
    "from torch.utils.data import DataLoader,Dataset\n",
    "from torch.autograd import Variable"
   ]
  },
  {
   "cell_type": "code",
   "execution_count": 4,
   "metadata": {
    "id": "ehyEdrrtHocL"
   },
   "outputs": [],
   "source": [
    "import torch.nn as nn"
   ]
  },
  {
   "cell_type": "markdown",
   "metadata": {
    "id": "6aKEARK1CJJD"
   },
   "source": [
    "# Number Pair Dataset"
   ]
  },
  {
   "cell_type": "code",
   "execution_count": 5,
   "metadata": {
    "id": "SL9Alj4BCiNj"
   },
   "outputs": [],
   "source": [
    "import random"
   ]
  },
  {
   "cell_type": "code",
   "execution_count": 6,
   "metadata": {
    "id": "EE5RkD_iCHXD"
   },
   "outputs": [],
   "source": [
    "class SiameseNetworkSimplestDataset(Dataset):\n",
    "    def __init__(self, minval=-100, maxval=100, npairs=1000):\n",
    "        self.minval = minval\n",
    "        self.maxval = maxval\n",
    "        self.data = []\n",
    "\n",
    "        # positive pairs\n",
    "        for i in range(npairs//2):\n",
    "            num1 = random.randint(1, self.maxval)\n",
    "            num2 = random.randint(1, self.maxval)\n",
    "            self.data.append((num1, num2, 1))\n",
    "        for i in range(npairs//2):\n",
    "            num1 = random.randint(self.minval, -1)\n",
    "            num2 = random.randint(self.minval, -1)\n",
    "            self.data.append((num1, num2, 1))\n",
    "\n",
    "        # negative pairs\n",
    "        for i in range(npairs//2):\n",
    "            num1 = random.randint(1, self.maxval)\n",
    "            num2 = random.randint(self.minval, -1)\n",
    "            self.data.append((num1, num2, 0))\n",
    "        for i in range(npairs//2):\n",
    "            num1 = random.randint(1, self.maxval)\n",
    "            num2 = random.randint(self.minval, -1)\n",
    "            self.data.append((num2, num1, 0))\n",
    "\n",
    "        random.shuffle(self.data)\n",
    "        self.data = list(map(lambda x: (np.array([x[0]], dtype=np.float32), np.array([x[1]], dtype=np.float32), x[2]), self.data))\n",
    "\n",
    "    @property\n",
    "    def npairs(self):\n",
    "        return len(self.data)\n",
    "\n",
    "    def __len__(self):\n",
    "        return self.npairs\n",
    "\n",
    "    def __getitem__(self, index):\n",
    "        return self.data[index]"
   ]
  },
  {
   "cell_type": "code",
   "execution_count": 7,
   "metadata": {
    "id": "ZOSK-hX_CW4m"
   },
   "outputs": [],
   "source": [
    "simplest_dataset = SiameseNetworkSimplestDataset(npairs=1000)"
   ]
  },
  {
   "cell_type": "code",
   "execution_count": 8,
   "metadata": {
    "colab": {
     "base_uri": "https://localhost:8080/"
    },
    "id": "2kZeuFzNCaWf",
    "outputId": "9f93370e-25d3-41ad-ba47-9ec7fcc45267"
   },
   "outputs": [
    {
     "data": {
      "text/plain": [
       "(array([-90.], dtype=float32), array([61.], dtype=float32), 0)"
      ]
     },
     "execution_count": 8,
     "metadata": {},
     "output_type": "execute_result"
    }
   ],
   "source": [
    "simplest_dataset[5]"
   ]
  },
  {
   "cell_type": "code",
   "execution_count": 9,
   "metadata": {
    "colab": {
     "base_uri": "https://localhost:8080/"
    },
    "id": "QwwJDoY1Cba-",
    "outputId": "743b1d66-3d8a-4302-dc59-ca972262d3fe"
   },
   "outputs": [
    {
     "data": {
      "text/plain": [
       "[(array([57.], dtype=float32), array([-51.], dtype=float32), 0),\n",
       " (array([60.], dtype=float32), array([53.], dtype=float32), 1),\n",
       " (array([-59.], dtype=float32), array([-74.], dtype=float32), 1),\n",
       " (array([-89.], dtype=float32), array([-97.], dtype=float32), 1),\n",
       " (array([-53.], dtype=float32), array([-29.], dtype=float32), 1),\n",
       " (array([-90.], dtype=float32), array([61.], dtype=float32), 0)]"
      ]
     },
     "execution_count": 9,
     "metadata": {},
     "output_type": "execute_result"
    }
   ],
   "source": [
    "simplest_dataset[:6]"
   ]
  },
  {
   "cell_type": "code",
   "execution_count": 10,
   "metadata": {
    "id": "i771ONYLGKL0"
   },
   "outputs": [],
   "source": [
    "simplest_dataloader = DataLoader(simplest_dataset, shuffle=True, batch_size=4)"
   ]
  },
  {
   "cell_type": "markdown",
   "metadata": {
    "id": "EYEkAAAfGwz2"
   },
   "source": [
    "# ANN Siamese Network"
   ]
  },
  {
   "cell_type": "code",
   "execution_count": 11,
   "metadata": {
    "id": "hlNR_0S_GaZN"
   },
   "outputs": [],
   "source": [
    "class SiameseNetwork(torch.nn.Module):\n",
    "    def __init__(self, input_dim=2):\n",
    "        super(SiameseNetwork, self).__init__()\n",
    "             # Defining the fully connected layers\n",
    "        self.fc1 = nn.Sequential(\n",
    "            nn.Linear(1, 4),\n",
    "            nn.ReLU(inplace=True),\n",
    "\n",
    "            # nn.Linear(4, 8),\n",
    "            # nn.ReLU(inplace=True),\n",
    "\n",
    "            # nn.Linear(8, 4),\n",
    "            # nn.ReLU(inplace=True),\n",
    "\n",
    "            nn.Linear(4, 3)\n",
    "        )\n",
    "\n",
    "    def forward_once(self, x):\n",
    "        return self.fc1(x)\n",
    "\n",
    "    def forward(self, input1, input2):\n",
    "        output1 = self.forward_once(input1)\n",
    "        output2 = self.forward_once(input2)\n",
    "        return output1, output2"
   ]
  },
  {
   "cell_type": "code",
   "execution_count": 12,
   "metadata": {
    "id": "ZlI8MQHBGjrV"
   },
   "outputs": [],
   "source": [
    "model = SiameseNetwork()"
   ]
  },
  {
   "cell_type": "code",
   "execution_count": 13,
   "metadata": {
    "id": "I83lGsm7I2t6"
   },
   "outputs": [],
   "source": [
    "# torch.Tensor(1)"
   ]
  },
  {
   "cell_type": "code",
   "execution_count": 14,
   "metadata": {
    "id": "G6Dmn8H1HJlI"
   },
   "outputs": [],
   "source": [
    "# model.forward_once(torch.Tensor(1))"
   ]
  },
  {
   "cell_type": "markdown",
   "metadata": {
    "id": "OIrR4u6nJqW5"
   },
   "source": [
    "# Training"
   ]
  },
  {
   "cell_type": "code",
   "execution_count": 15,
   "metadata": {
    "id": "wvZl6hFlH6pK"
   },
   "outputs": [],
   "source": [
    "# Load the dataset as pytorch tensors using dataloader\n",
    "train_dataloader = DataLoader(simplest_dataset,\n",
    "                        shuffle=True,\n",
    "                        num_workers=4,\n",
    "                        batch_size=16)"
   ]
  },
  {
   "cell_type": "code",
   "execution_count": null,
   "metadata": {
    "id": "a-P6ScLLTnn6"
   },
   "outputs": [],
   "source": []
  },
  {
   "cell_type": "code",
   "execution_count": 16,
   "metadata": {
    "id": "mmVJk2CTJwRp"
   },
   "outputs": [
    {
     "data": {
      "text/plain": [
       "False"
      ]
     },
     "execution_count": 16,
     "metadata": {},
     "output_type": "execute_result"
    }
   ],
   "source": [
    "# GPU availability\n",
    "torch.cuda.is_available()"
   ]
  },
  {
   "cell_type": "code",
   "execution_count": 17,
   "metadata": {
    "id": "u9YufJtEJ2qb"
   },
   "outputs": [],
   "source": [
    "# Declare Siamese Network\n",
    "net = SiameseNetwork()\n",
    "# Decalre Loss Function\n",
    "criterion = nn.CosineEmbeddingLoss()\n",
    "# criterion = nn.CosineSimilarity()\n",
    "# Declare Optimizer\n",
    "optimizer = torch.optim.RMSprop(net.parameters(), lr=1e-4, alpha=0.99, eps=1e-8, weight_decay=0.0005, momentum=0.9)"
   ]
  },
  {
   "cell_type": "code",
   "execution_count": 18,
   "metadata": {
    "colab": {
     "base_uri": "https://localhost:8080/"
    },
    "id": "osO0K0gtKFWb",
    "outputId": "3426470e-72b2-408b-dcf9-4a4106b472b5"
   },
   "outputs": [
    {
     "name": "stdout",
     "output_type": "stream",
     "text": [
      "Epoch number 0\n",
      " Current loss 0.006015501916408539\n",
      "\n",
      "Epoch number 0\n",
      " Current loss 0.00015624240040779114\n",
      "\n",
      "Epoch number 1\n",
      " Current loss 2.5190412998199463e-05\n",
      "\n",
      "Epoch number 1\n",
      " Current loss 2.6639550924301147e-05\n",
      "\n",
      "Epoch number 2\n",
      " Current loss 4.374608397483826e-05\n",
      "\n",
      "Epoch number 2\n",
      " Current loss 2.7976930141448975e-06\n",
      "\n",
      "Epoch number 3\n",
      " Current loss 2.823770046234131e-06\n",
      "\n",
      "Epoch number 3\n",
      " Current loss -2.2351741790771484e-08\n",
      "\n",
      "Epoch number 4\n",
      " Current loss 1.1175870895385742e-08\n",
      "\n",
      "Epoch number 4\n",
      " Current loss -1.1175870895385742e-08\n",
      "\n",
      "Epoch number 5\n",
      " Current loss 1.4901161193847656e-08\n",
      "\n",
      "Epoch number 5\n",
      " Current loss 7.450580596923828e-09\n",
      "\n",
      "Epoch number 6\n",
      " Current loss 0.0\n",
      "\n",
      "Epoch number 6\n",
      " Current loss 1.4901161193847656e-08\n",
      "\n",
      "Epoch number 7\n",
      " Current loss 5.587935447692871e-08\n",
      "\n",
      "Epoch number 7\n",
      " Current loss 8.754432201385498e-07\n",
      "\n",
      "Epoch number 8\n",
      " Current loss 1.6763806343078613e-07\n",
      "\n",
      "Epoch number 8\n",
      " Current loss 1.0803341865539551e-07\n",
      "\n",
      "Epoch number 9\n",
      " Current loss 1.1920928955078125e-07\n",
      "\n",
      "Epoch number 9\n",
      " Current loss 1.1101365089416504e-06\n",
      "\n",
      "Epoch number 10\n",
      " Current loss 2.4959444999694824e-07\n",
      "\n",
      "Epoch number 10\n",
      " Current loss 3.3527612686157227e-07\n",
      "\n",
      "Epoch number 11\n",
      " Current loss 1.1920928955078125e-07\n",
      "\n",
      "Epoch number 11\n",
      " Current loss 8.866190910339355e-07\n",
      "\n",
      "Epoch number 12\n",
      " Current loss 8.195638656616211e-08\n",
      "\n",
      "Epoch number 12\n",
      " Current loss 1.0579824447631836e-06\n",
      "\n",
      "Epoch number 13\n",
      " Current loss 2.905726432800293e-07\n",
      "\n",
      "Epoch number 13\n",
      " Current loss 7.450580596923828e-09\n",
      "\n",
      "Epoch number 14\n",
      " Current loss 7.450580596923828e-09\n",
      "\n",
      "Epoch number 14\n",
      " Current loss 9.216368198394775e-06\n",
      "\n",
      "Epoch number 15\n",
      " Current loss 2.644956111907959e-07\n",
      "\n",
      "Epoch number 15\n",
      " Current loss -1.4901161193847656e-08\n",
      "\n",
      "Epoch number 16\n",
      " Current loss 0.0\n",
      "\n",
      "Epoch number 16\n",
      " Current loss 1.3560056686401367e-06\n",
      "\n",
      "Epoch number 17\n",
      " Current loss 2.2351741790771484e-08\n",
      "\n",
      "Epoch number 17\n",
      " Current loss 1.4901161193847656e-08\n",
      "\n",
      "Epoch number 18\n",
      " Current loss 3.3527612686157227e-07\n",
      "\n",
      "Epoch number 18\n",
      " Current loss 2.421438694000244e-07\n",
      "\n",
      "Epoch number 19\n",
      " Current loss -7.450580596923828e-09\n",
      "\n",
      "Epoch number 19\n",
      " Current loss 0.0\n",
      "\n",
      "Epoch number 20\n",
      " Current loss 7.450580596923828e-09\n",
      "\n",
      "Epoch number 20\n",
      " Current loss 1.5757977962493896e-06\n",
      "\n",
      "Epoch number 21\n",
      " Current loss 2.384185791015625e-07\n",
      "\n",
      "Epoch number 21\n",
      " Current loss 3.688037395477295e-07\n",
      "\n",
      "Epoch number 22\n",
      " Current loss 4.891306161880493e-06\n",
      "\n",
      "Epoch number 22\n",
      " Current loss -1.4901161193847656e-08\n",
      "\n",
      "Epoch number 23\n",
      " Current loss -2.2351741790771484e-08\n",
      "\n",
      "Epoch number 23\n",
      " Current loss -1.1175870895385742e-08\n",
      "\n",
      "Epoch number 24\n",
      " Current loss -1.4901161193847656e-08\n",
      "\n",
      "Epoch number 24\n",
      " Current loss -1.862645149230957e-08\n",
      "\n",
      "Epoch number 25\n",
      " Current loss -7.450580596923828e-09\n",
      "\n",
      "Epoch number 25\n",
      " Current loss -1.1175870895385742e-08\n",
      "\n",
      "Epoch number 26\n",
      " Current loss -1.4901161193847656e-08\n",
      "\n",
      "Epoch number 26\n",
      " Current loss -7.450580596923828e-09\n",
      "\n",
      "Epoch number 27\n",
      " Current loss -2.60770320892334e-08\n",
      "\n",
      "Epoch number 27\n",
      " Current loss 1.0542571544647217e-06\n",
      "\n",
      "Epoch number 28\n",
      " Current loss 0.0\n",
      "\n",
      "Epoch number 28\n",
      " Current loss 7.450580596923828e-09\n",
      "\n",
      "Epoch number 29\n",
      " Current loss 1.3783574104309082e-07\n",
      "\n",
      "Epoch number 29\n",
      " Current loss 0.0\n",
      "\n",
      "Epoch number 30\n",
      " Current loss 3.725290298461914e-09\n",
      "\n",
      "Epoch number 30\n",
      " Current loss 0.0\n",
      "\n",
      "Epoch number 31\n",
      " Current loss -7.450580596923828e-09\n",
      "\n",
      "Epoch number 31\n",
      " Current loss 7.450580596923828e-09\n",
      "\n",
      "Epoch number 32\n",
      " Current loss -1.4901161193847656e-08\n",
      "\n",
      "Epoch number 32\n",
      " Current loss 0.0\n",
      "\n",
      "Epoch number 33\n",
      " Current loss -7.450580596923828e-09\n",
      "\n",
      "Epoch number 33\n",
      " Current loss -1.4901161193847656e-08\n",
      "\n",
      "Epoch number 34\n",
      " Current loss -7.450580596923828e-09\n",
      "\n",
      "Epoch number 34\n",
      " Current loss -1.4901161193847656e-08\n",
      "\n",
      "Epoch number 35\n",
      " Current loss -2.9802322387695312e-08\n",
      "\n",
      "Epoch number 35\n",
      " Current loss 7.450580596923828e-09\n",
      "\n",
      "Epoch number 36\n",
      " Current loss 0.0\n",
      "\n",
      "Epoch number 36\n",
      " Current loss 0.0\n",
      "\n",
      "Epoch number 37\n",
      " Current loss 2.9802322387695312e-08\n",
      "\n",
      "Epoch number 37\n",
      " Current loss 2.60770320892334e-08\n",
      "\n",
      "Epoch number 38\n",
      " Current loss 0.0\n",
      "\n",
      "Epoch number 38\n",
      " Current loss 0.0\n",
      "\n",
      "Epoch number 39\n",
      " Current loss 0.0\n",
      "\n",
      "Epoch number 39\n",
      " Current loss 0.0\n",
      "\n",
      "Epoch number 40\n",
      " Current loss 0.0\n",
      "\n",
      "Epoch number 40\n",
      " Current loss 0.0\n",
      "\n",
      "Epoch number 41\n",
      " Current loss 0.0\n",
      "\n",
      "Epoch number 41\n",
      " Current loss 0.0\n",
      "\n",
      "Epoch number 42\n",
      " Current loss 0.0\n",
      "\n",
      "Epoch number 42\n",
      " Current loss 0.0\n",
      "\n",
      "Epoch number 43\n",
      " Current loss 3.3527612686157227e-08\n",
      "\n",
      "Epoch number 43\n",
      " Current loss 0.0\n",
      "\n",
      "Epoch number 44\n",
      " Current loss 4.0978193283081055e-08\n",
      "\n",
      "Epoch number 44\n",
      " Current loss 3.3527612686157227e-08\n",
      "\n",
      "Epoch number 45\n",
      " Current loss 1.3932585716247559e-06\n",
      "\n",
      "Epoch number 45\n",
      " Current loss -1.4901161193847656e-08\n",
      "\n",
      "Epoch number 46\n",
      " Current loss 7.450580596923828e-09\n",
      "\n",
      "Epoch number 46\n",
      " Current loss -1.1175870895385742e-08\n",
      "\n",
      "Epoch number 47\n",
      " Current loss -1.1175870895385742e-08\n",
      "\n",
      "Epoch number 47\n",
      " Current loss -1.4901161193847656e-08\n",
      "\n",
      "Epoch number 48\n",
      " Current loss -3.725290298461914e-09\n",
      "\n",
      "Epoch number 48\n",
      " Current loss 1.4156103134155273e-07\n",
      "\n",
      "Epoch number 49\n",
      " Current loss 1.564621925354004e-07\n",
      "\n",
      "Epoch number 49\n",
      " Current loss -7.450580596923828e-09\n",
      "\n"
     ]
    }
   ],
   "source": [
    "counter = []\n",
    "loss_history = [] \n",
    "iteration_number= 0\n",
    "epochs = 50\n",
    "for epoch in range(0, epochs):\n",
    "    for i, data in enumerate(train_dataloader, 0):\n",
    "        num1, num2, label = data\n",
    "        optimizer.zero_grad()\n",
    "        output1, output2 = net(num1, num2)\n",
    "        loss_contrastive = criterion(output1,output2,label)\n",
    "        loss_contrastive.backward()\n",
    "        optimizer.step()\n",
    "        if i %100 == 0 :\n",
    "            print(\"Epoch number {}\\n Current loss {}\\n\".format(epoch,loss_contrastive.item()))\n",
    "            iteration_number +=10\n",
    "            counter.append(iteration_number)\n",
    "            loss_history.append(loss_contrastive.item())"
   ]
  },
  {
   "cell_type": "code",
   "execution_count": 20,
   "metadata": {
    "colab": {
     "base_uri": "https://localhost:8080/",
     "height": 282
    },
    "id": "0jUGMWaSK5E9",
    "outputId": "72cee709-5789-4480-b6ff-ac1b569d019f"
   },
   "outputs": [
    {
     "data": {
      "text/plain": [
       "[<matplotlib.lines.Line2D at 0x7f2e14884d10>]"
      ]
     },
     "execution_count": 20,
     "metadata": {},
     "output_type": "execute_result"
    },
    {
     "data": {
      "image/png": "[encoded data removed]",
      "text/plain": [
       "<Figure size 432x288 with 1 Axes>"
      ]
     },
     "metadata": {
      "needs_background": "light"
     },
     "output_type": "display_data"
    }
   ],
   "source": [
    "plt.plot(loss_history)"
   ]
  },
  {
   "cell_type": "markdown",
   "metadata": {
    "id": "pHN-TInBWHFF"
   },
   "source": [
    "# Test\n",
    "\n",
    "We get the embedding for each input number and compare their similarity using cosine similarity metric."
   ]
  },
  {
   "cell_type": "code",
   "execution_count": 21,
   "metadata": {
    "colab": {
     "base_uri": "https://localhost:8080/"
    },
    "id": "As_zWSKKV0e5",
    "outputId": "e1dabd6c-65f5-4b31-9353-b9bceb04d74d"
   },
   "outputs": [
    {
     "name": "stdout",
     "output_type": "stream",
     "text": [
      "tensor([ 0.0210,  0.0104, -0.0074], grad_fn=<AddBackward0>) tensor([ 0.0210,  0.0104, -0.0074], grad_fn=<AddBackward0>)\n"
     ]
    },
    {
     "data": {
      "text/plain": [
       "tensor(1., grad_fn=<DivBackward0>)"
      ]
     },
     "execution_count": 21,
     "metadata": {},
     "output_type": "execute_result"
    }
   ],
   "source": [
    "# both negative -> score should be high\n",
    "num1 = np.array([-1], dtype=np.float32)\n",
    "num2 = np.array([-1], dtype=np.float32)\n",
    "num1 = torch.from_numpy(num1)\n",
    "num2 = torch.from_numpy(num2)\n",
    "\n",
    "out1, out2 = net(num1, num2)\n",
    "print(out1, out2)\n",
    "nn.CosineSimilarity(dim=0)(out1, out2)"
   ]
  },
  {
   "cell_type": "code",
   "execution_count": 22,
   "metadata": {
    "colab": {
     "base_uri": "https://localhost:8080/"
    },
    "id": "wraCdTN1asqW",
    "outputId": "f09bf475-9128-4dc2-ff01-bdabe6f8f347"
   },
   "outputs": [
    {
     "name": "stdout",
     "output_type": "stream",
     "text": [
      "tensor([ 0.0210,  0.0104, -0.0074], grad_fn=<AddBackward0>) tensor([ 0.0211,  0.0104, -0.0075], grad_fn=<AddBackward0>)\n"
     ]
    },
    {
     "data": {
      "text/plain": [
       "tensor(1., grad_fn=<DivBackward0>)"
      ]
     },
     "execution_count": 22,
     "metadata": {},
     "output_type": "execute_result"
    }
   ],
   "source": [
    "# -ve, +ve\n",
    "num1 = np.array([-99], dtype=np.float32)\n",
    "num2 = np.array([200], dtype=np.float32)\n",
    "num1 = torch.from_numpy(num1)\n",
    "num2 = torch.from_numpy(num2)\n",
    "\n",
    "out1, out2 = net(num1, num2)\n",
    "print(out1, out2)\n",
    "nn.CosineSimilarity(dim=0)(out1, out2)"
   ]
  },
  {
   "cell_type": "code",
   "execution_count": 23,
   "metadata": {
    "colab": {
     "base_uri": "https://localhost:8080/"
    },
    "id": "05O3IwJ0WTp_",
    "outputId": "21879456-0b3b-44a4-8556-c6aa00fe384d"
   },
   "outputs": [
    {
     "name": "stdout",
     "output_type": "stream",
     "text": [
      "tensor([ 0.0210,  0.0104, -0.0074], grad_fn=<AddBackward0>) tensor([ 0.0210,  0.0104, -0.0074], grad_fn=<AddBackward0>)\n"
     ]
    },
    {
     "data": {
      "text/plain": [
       "tensor(1.0000, grad_fn=<DivBackward0>)"
      ]
     },
     "execution_count": 23,
     "metadata": {},
     "output_type": "execute_result"
    }
   ],
   "source": [
    "# +ve, -ve\n",
    "num1 = np.array([5], dtype=np.float32)\n",
    "num2 = np.array([-200], dtype=np.float32)\n",
    "num1 = torch.from_numpy(num1)\n",
    "num2 = torch.from_numpy(num2)\n",
    "\n",
    "out1, out2 = net(num1, num2)\n",
    "print(out1, out2)\n",
    "nn.CosineSimilarity(dim=0)(out1, out2)"
   ]
  },
  {
   "cell_type": "code",
   "execution_count": 24,
   "metadata": {
    "colab": {
     "base_uri": "https://localhost:8080/"
    },
    "id": "wV2LFAFMZdwS",
    "outputId": "94ee0b2f-a040-40f3-80cf-db1646662100"
   },
   "outputs": [
    {
     "name": "stdout",
     "output_type": "stream",
     "text": [
      "tensor([ 0.0210,  0.0104, -0.0074], grad_fn=<AddBackward0>) tensor([ 0.0211,  0.0104, -0.0075], grad_fn=<AddBackward0>)\n"
     ]
    },
    {
     "data": {
      "text/plain": [
       "tensor(1., grad_fn=<DivBackward0>)"
      ]
     },
     "execution_count": 24,
     "metadata": {},
     "output_type": "execute_result"
    }
   ],
   "source": [
    "# +ve, +ve\n",
    "num1 = np.array([11], dtype=np.float32)\n",
    "num2 = np.array([42], dtype=np.float32)\n",
    "num1 = torch.from_numpy(num1)\n",
    "num2 = torch.from_numpy(num2)\n",
    "\n",
    "out1, out2 = net(num1, num2)\n",
    "print(out1, out2)\n",
    "nn.CosineSimilarity(dim=0)(out1, out2)"
   ]
  },
  {
   "cell_type": "markdown",
   "metadata": {
    "id": "84Vv1GQuaAcQ"
   },
   "source": [
    "# Note\n",
    "\n",
    "This is just a toy to get you started into Siamese network. That's why I haven't done any evaluation.\n",
    "\n",
    "Now, this might be **THE SIMPLEST** network. But, if you scale it to any arbitary network with you own sets of input pairs (say image pairs, sentence pairs), and use proper comparison metric (and embedding loss), you will have some sense of direction."
   ]
  },
  {
   "cell_type": "code",
   "execution_count": null,
   "metadata": {},
   "outputs": [],
   "source": []
  }
 ],
 "metadata": {
  "colab": {
   "collapsed_sections": [],
   "name": "siamese-network-simplest",
   "provenance": []
  },
  "kernelspec": {
   "display_name": "Python 3",
   "language": "python",
   "name": "python3"
  },
  "language_info": {
   "codemirror_mode": {
    "name": "ipython",
    "version": 3
   },
   "file_extension": ".py",
   "mimetype": "text/x-python",
   "name": "python",
   "nbconvert_exporter": "python",
   "pygments_lexer": "ipython3",
   "version": "3.7.4"
  }
 },
 "nbformat": 4,
 "nbformat_minor": 1
}
