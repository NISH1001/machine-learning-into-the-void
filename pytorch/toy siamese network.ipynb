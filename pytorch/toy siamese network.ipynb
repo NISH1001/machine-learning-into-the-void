{
 "cells": [
  {
   "cell_type": "markdown",
   "metadata": {
    "id": "wP7G8cfgaFV6"
   },
   "source": [
    "# What the F is this about?\n",
    "\n",
    "This is the simplest siamese network to be in existence.\n",
    "It compares if two numbers are of same sign.\n",
    "\n",
    "\n",
    "If they are of same signs (+, +) or (-, -), it will give you high score.\n",
    "\n",
    "Else low.\n",
    "## References\n",
    "https://colab.research.google.com/drive/1FsixLon5Zz3_rFA0xIHzc8Tvnnw8FLr8#scrollTo=6aUJOhkrFfu9"
   ]
  },
  {
   "cell_type": "code",
   "execution_count": 1,
   "metadata": {
    "id": "q7lR4r-JBuNh"
   },
   "outputs": [],
   "source": [
    "import numpy as np\n",
    "import pandas as pd\n",
    "import cv2\n",
    "import matplotlib.pyplot as plt\n",
    "\n",
    "plt.rcParams[\"figure.figsize\"] = (30,25)"
   ]
  },
  {
   "cell_type": "code",
   "execution_count": 2,
   "metadata": {
    "id": "n0DdNxHkCCUH"
   },
   "outputs": [],
   "source": [
    "import torch\n",
    "import torch.utils.data as utils\n",
    "from torchvision import datasets\n",
    "import torchvision.transforms as transforms\n",
    "from torch.utils.data import DataLoader,Dataset\n",
    "from torch.autograd import Variable"
   ]
  },
  {
   "cell_type": "code",
   "execution_count": 3,
   "metadata": {
    "id": "ehyEdrrtHocL"
   },
   "outputs": [],
   "source": [
    "import torch.nn as nn"
   ]
  },
  {
   "cell_type": "markdown",
   "metadata": {
    "id": "6aKEARK1CJJD"
   },
   "source": [
    "# Number Pair Dataset"
   ]
  },
  {
   "cell_type": "code",
   "execution_count": 4,
   "metadata": {
    "id": "SL9Alj4BCiNj"
   },
   "outputs": [],
   "source": [
    "import random"
   ]
  },
  {
   "cell_type": "code",
   "execution_count": 6,
   "metadata": {
    "id": "EE5RkD_iCHXD"
   },
   "outputs": [],
   "source": [
    "class SiameseNetworkSimplestDataset(Dataset):\n",
    "    def __init__(self, minval=-100, maxval=100, npairs=1000):\n",
    "        self.minval = minval\n",
    "        self.maxval = maxval\n",
    "        self.data = []\n",
    "\n",
    "        # positive pairs\n",
    "        for i in range(npairs//2):\n",
    "            num1 = random.randint(1, self.maxval)\n",
    "            num2 = random.randint(1, self.maxval)\n",
    "            self.data.append((num1, num2, 1))\n",
    "        for i in range(npairs//2):\n",
    "            num1 = random.randint(self.minval, -1)\n",
    "            num2 = random.randint(self.minval, -1)\n",
    "            self.data.append((num1, num2, 1))\n",
    "\n",
    "        # negative pairs\n",
    "        for i in range(npairs//2):\n",
    "            num1 = random.randint(1, self.maxval)\n",
    "            num2 = random.randint(self.minval, -1)\n",
    "            self.data.append((num1, num2, 0))\n",
    "        for i in range(npairs//2):\n",
    "            num1 = random.randint(1, self.maxval)\n",
    "            num2 = random.randint(self.minval, -1)\n",
    "            self.data.append((num2, num1, 0))\n",
    "\n",
    "        random.shuffle(self.data)\n",
    "        self.data = list(map(lambda x: (np.array([x[0]], dtype=np.float32), np.array([x[1]], dtype=np.float32), x[2]), self.data))\n",
    "\n",
    "    @property\n",
    "    def npairs(self):\n",
    "        return len(self.data)\n",
    "\n",
    "    def __len__(self):\n",
    "        return self.npairs\n",
    "\n",
    "    def __getitem__(self, index):\n",
    "        return self.data[index]"
   ]
  },
  {
   "cell_type": "code",
   "execution_count": 7,
   "metadata": {
    "id": "ZOSK-hX_CW4m"
   },
   "outputs": [],
   "source": [
    "simplest_dataset = SiameseNetworkSimplestDataset(npairs=1000)"
   ]
  },
  {
   "cell_type": "code",
   "execution_count": 8,
   "metadata": {
    "colab": {
     "base_uri": "https://localhost:8080/"
    },
    "id": "2kZeuFzNCaWf",
    "outputId": "9f93370e-25d3-41ad-ba47-9ec7fcc45267"
   },
   "outputs": [
    {
     "data": {
      "text/plain": [
       "(array([24.], dtype=float32), array([15.], dtype=float32), 1)"
      ]
     },
     "execution_count": 8,
     "metadata": {},
     "output_type": "execute_result"
    }
   ],
   "source": [
    "simplest_dataset[5]"
   ]
  },
  {
   "cell_type": "code",
   "execution_count": 9,
   "metadata": {
    "colab": {
     "base_uri": "https://localhost:8080/"
    },
    "id": "QwwJDoY1Cba-",
    "outputId": "743b1d66-3d8a-4302-dc59-ca972262d3fe"
   },
   "outputs": [
    {
     "data": {
      "text/plain": [
       "[(array([-9.], dtype=float32), array([-72.], dtype=float32), 1),\n",
       " (array([-9.], dtype=float32), array([-67.], dtype=float32), 1),\n",
       " (array([-88.], dtype=float32), array([-83.], dtype=float32), 1),\n",
       " (array([95.], dtype=float32), array([-70.], dtype=float32), 0),\n",
       " (array([-76.], dtype=float32), array([-65.], dtype=float32), 1),\n",
       " (array([24.], dtype=float32), array([15.], dtype=float32), 1)]"
      ]
     },
     "execution_count": 9,
     "metadata": {},
     "output_type": "execute_result"
    }
   ],
   "source": [
    "simplest_dataset[:6]"
   ]
  },
  {
   "cell_type": "code",
   "execution_count": 10,
   "metadata": {
    "id": "i771ONYLGKL0"
   },
   "outputs": [],
   "source": [
    "simplest_dataloader = DataLoader(simplest_dataset, shuffle=True, batch_size=4)"
   ]
  },
  {
   "cell_type": "markdown",
   "metadata": {
    "id": "EYEkAAAfGwz2"
   },
   "source": [
    "# ANN Siamese Network"
   ]
  },
  {
   "cell_type": "code",
   "execution_count": 11,
   "metadata": {
    "id": "hlNR_0S_GaZN"
   },
   "outputs": [],
   "source": [
    "class SiameseNetwork(torch.nn.Module):\n",
    "    def __init__(self, input_dim=2):\n",
    "        super(SiameseNetwork, self).__init__()\n",
    "             # Defining the fully connected layers\n",
    "        self.fc1 = nn.Sequential(\n",
    "            nn.Linear(1, 4),\n",
    "            nn.ReLU(inplace=True),\n",
    "\n",
    "            # nn.Linear(4, 8),\n",
    "            # nn.ReLU(inplace=True),\n",
    "\n",
    "            # nn.Linear(8, 4),\n",
    "            # nn.ReLU(inplace=True),\n",
    "\n",
    "            nn.Linear(4, 3)\n",
    "        )\n",
    "\n",
    "    def forward_once(self, x):\n",
    "        return self.fc1(x)\n",
    "\n",
    "    def forward(self, input1, input2):\n",
    "        output1 = self.forward_once(input1)\n",
    "        output2 = self.forward_once(input2)\n",
    "        return output1, output2"
   ]
  },
  {
   "cell_type": "code",
   "execution_count": 12,
   "metadata": {
    "id": "ZlI8MQHBGjrV"
   },
   "outputs": [],
   "source": [
    "model = SiameseNetwork()"
   ]
  },
  {
   "cell_type": "code",
   "execution_count": 13,
   "metadata": {
    "id": "I83lGsm7I2t6"
   },
   "outputs": [],
   "source": [
    "# torch.Tensor(1)"
   ]
  },
  {
   "cell_type": "code",
   "execution_count": 14,
   "metadata": {
    "id": "G6Dmn8H1HJlI"
   },
   "outputs": [],
   "source": [
    "# model.forward_once(torch.Tensor(1))"
   ]
  },
  {
   "cell_type": "markdown",
   "metadata": {
    "id": "OIrR4u6nJqW5"
   },
   "source": [
    "# Training"
   ]
  },
  {
   "cell_type": "code",
   "execution_count": 15,
   "metadata": {
    "id": "wvZl6hFlH6pK"
   },
   "outputs": [],
   "source": [
    "# Load the dataset as pytorch tensors using dataloader\n",
    "train_dataloader = DataLoader(simplest_dataset,\n",
    "                        shuffle=True,\n",
    "                        num_workers=4,\n",
    "                        batch_size=16)"
   ]
  },
  {
   "cell_type": "code",
   "execution_count": null,
   "metadata": {
    "id": "a-P6ScLLTnn6"
   },
   "outputs": [],
   "source": []
  },
  {
   "cell_type": "code",
   "execution_count": 17,
   "metadata": {
    "id": "mmVJk2CTJwRp"
   },
   "outputs": [
    {
     "data": {
      "text/plain": [
       "False"
      ]
     },
     "execution_count": 17,
     "metadata": {},
     "output_type": "execute_result"
    }
   ],
   "source": [
    "# Check whether you have GPU is loaded or not\n",
    "torch.cuda.is_available()"
   ]
  },
  {
   "cell_type": "code",
   "execution_count": 18,
   "metadata": {
    "id": "u9YufJtEJ2qb"
   },
   "outputs": [],
   "source": [
    "# Declare Siamese Network\n",
    "net = SiameseNetwork()\n",
    "# Decalre Loss Function\n",
    "criterion = nn.CosineEmbeddingLoss()\n",
    "# criterion = nn.CosineSimilarity()\n",
    "# Declare Optimizer\n",
    "optimizer = torch.optim.RMSprop(net.parameters(), lr=1e-4, alpha=0.99, eps=1e-8, weight_decay=0.0005, momentum=0.9)"
   ]
  },
  {
   "cell_type": "code",
   "execution_count": 19,
   "metadata": {
    "colab": {
     "base_uri": "https://localhost:8080/"
    },
    "id": "osO0K0gtKFWb",
    "outputId": "3426470e-72b2-408b-dcf9-4a4106b472b5"
   },
   "outputs": [
    {
     "name": "stdout",
     "output_type": "stream",
     "text": [
      "Epoch number 0\n",
      " Current loss 8.460879325866699e-05\n",
      "\n",
      "Epoch number 0\n",
      " Current loss 0.0003820881247520447\n",
      "\n",
      "Epoch number 1\n",
      " Current loss 0.00016486644744873047\n",
      "\n",
      "Epoch number 1\n",
      " Current loss 3.296881914138794e-05\n",
      "\n",
      "Epoch number 2\n",
      " Current loss 7.136538624763489e-05\n",
      "\n",
      "Epoch number 2\n",
      " Current loss 3.56137752532959e-06\n",
      "\n",
      "Epoch number 3\n",
      " Current loss 2.0779669284820557e-05\n",
      "\n",
      "Epoch number 3\n",
      " Current loss 7.327646017074585e-06\n",
      "\n",
      "Epoch number 4\n",
      " Current loss 3.1441450119018555e-06\n",
      "\n",
      "Epoch number 4\n",
      " Current loss 7.815659046173096e-06\n",
      "\n",
      "Epoch number 5\n",
      " Current loss 3.6135315895080566e-07\n",
      "\n",
      "Epoch number 5\n",
      " Current loss 1.119077205657959e-05\n",
      "\n",
      "Epoch number 6\n",
      " Current loss 7.82310962677002e-08\n",
      "\n",
      "Epoch number 6\n",
      " Current loss 1.862645149230957e-08\n",
      "\n",
      "Epoch number 7\n",
      " Current loss 4.041939973831177e-06\n",
      "\n",
      "Epoch number 7\n",
      " Current loss 5.327165126800537e-07\n",
      "\n",
      "Epoch number 8\n",
      " Current loss 6.444752216339111e-07\n",
      "\n",
      "Epoch number 8\n",
      " Current loss 2.2351741790771484e-08\n",
      "\n",
      "Epoch number 9\n",
      " Current loss 5.289912223815918e-07\n",
      "\n",
      "Epoch number 9\n",
      " Current loss 5.587935447692871e-08\n",
      "\n",
      "Epoch number 10\n",
      " Current loss 1.5273690223693848e-07\n",
      "\n",
      "Epoch number 10\n",
      " Current loss 1.0952353477478027e-06\n",
      "\n",
      "Epoch number 11\n",
      " Current loss 1.1175870895385742e-08\n",
      "\n",
      "Epoch number 11\n",
      " Current loss -1.4901161193847656e-08\n",
      "\n",
      "Epoch number 12\n",
      " Current loss -7.450580596923828e-09\n",
      "\n",
      "Epoch number 12\n",
      " Current loss 1.4007091522216797e-06\n",
      "\n",
      "Epoch number 13\n",
      " Current loss 9.313225746154785e-08\n",
      "\n",
      "Epoch number 13\n",
      " Current loss 1.7881393432617188e-07\n",
      "\n",
      "Epoch number 14\n",
      " Current loss 1.1175870895385742e-08\n",
      "\n",
      "Epoch number 14\n",
      " Current loss 9.052455425262451e-07\n",
      "\n",
      "Epoch number 15\n",
      " Current loss 5.140900611877441e-07\n",
      "\n",
      "Epoch number 15\n",
      " Current loss 9.126961231231689e-07\n",
      "\n",
      "Epoch number 16\n",
      " Current loss 4.544854164123535e-07\n",
      "\n",
      "Epoch number 16\n",
      " Current loss 2.7194619178771973e-06\n",
      "\n",
      "Epoch number 17\n",
      " Current loss 1.7881393432617188e-07\n",
      "\n",
      "Epoch number 17\n",
      " Current loss 7.82310962677002e-08\n",
      "\n",
      "Epoch number 18\n",
      " Current loss 1.7136335372924805e-07\n",
      "\n",
      "Epoch number 18\n",
      " Current loss 7.450580596923828e-09\n",
      "\n",
      "Epoch number 19\n",
      " Current loss -7.450580596923828e-09\n",
      "\n",
      "Epoch number 19\n",
      " Current loss 1.4901161193847656e-08\n",
      "\n",
      "Epoch number 20\n",
      " Current loss 1.9744038581848145e-07\n",
      "\n",
      "Epoch number 20\n",
      " Current loss 4.3585896492004395e-07\n",
      "\n",
      "Epoch number 21\n",
      " Current loss 1.8849968910217285e-06\n",
      "\n",
      "Epoch number 21\n",
      " Current loss 1.3969838619232178e-06\n",
      "\n",
      "Epoch number 22\n",
      " Current loss 6.705522537231445e-08\n",
      "\n",
      "Epoch number 22\n",
      " Current loss 9.313225746154785e-08\n",
      "\n",
      "Epoch number 23\n",
      " Current loss 3.725290298461914e-08\n",
      "\n",
      "Epoch number 23\n",
      " Current loss 2.0116567611694336e-07\n",
      "\n",
      "Epoch number 24\n",
      " Current loss 6.221234798431396e-07\n",
      "\n",
      "Epoch number 24\n",
      " Current loss 3.390014171600342e-06\n",
      "\n",
      "Epoch number 25\n",
      " Current loss 2.980232238769531e-07\n",
      "\n",
      "Epoch number 25\n",
      " Current loss -7.450580596923828e-09\n",
      "\n",
      "Epoch number 26\n",
      " Current loss 7.450580596923828e-09\n",
      "\n",
      "Epoch number 26\n",
      " Current loss 1.1175870895385742e-08\n",
      "\n",
      "Epoch number 27\n",
      " Current loss 1.5757977962493896e-06\n",
      "\n",
      "Epoch number 27\n",
      " Current loss 2.5704503059387207e-07\n",
      "\n",
      "Epoch number 28\n",
      " Current loss 3.390014171600342e-07\n",
      "\n",
      "Epoch number 28\n",
      " Current loss 9.801238775253296e-06\n",
      "\n",
      "Epoch number 29\n",
      " Current loss 3.3527612686157227e-08\n",
      "\n",
      "Epoch number 29\n",
      " Current loss 0.0001900307834148407\n",
      "\n",
      "Epoch number 30\n",
      " Current loss 6.977468729019165e-06\n",
      "\n",
      "Epoch number 30\n",
      " Current loss 2.2351741790771484e-08\n",
      "\n",
      "Epoch number 31\n",
      " Current loss 1.601874828338623e-07\n",
      "\n",
      "Epoch number 31\n",
      " Current loss 3.0547380447387695e-07\n",
      "\n",
      "Epoch number 32\n",
      " Current loss 2.469867467880249e-06\n",
      "\n",
      "Epoch number 32\n",
      " Current loss 8.258968591690063e-06\n",
      "\n",
      "Epoch number 33\n",
      " Current loss 2.4959444999694824e-07\n",
      "\n",
      "Epoch number 33\n",
      " Current loss 7.82310962677002e-08\n",
      "\n",
      "Epoch number 34\n",
      " Current loss 4.470348358154297e-08\n",
      "\n",
      "Epoch number 34\n",
      " Current loss -7.450580596923828e-09\n",
      "\n",
      "Epoch number 35\n",
      " Current loss 2.1606683731079102e-07\n",
      "\n",
      "Epoch number 35\n",
      " Current loss 5.401670932769775e-07\n",
      "\n",
      "Epoch number 36\n",
      " Current loss 2.2351741790771484e-07\n",
      "\n",
      "Epoch number 36\n",
      " Current loss 1.4901161193847656e-08\n",
      "\n",
      "Epoch number 37\n",
      " Current loss 2.2351741790771484e-08\n",
      "\n",
      "Epoch number 37\n",
      " Current loss 1.9297003746032715e-06\n",
      "\n",
      "Epoch number 38\n",
      " Current loss 1.4156103134155273e-07\n",
      "\n",
      "Epoch number 38\n",
      " Current loss 4.842877388000488e-08\n",
      "\n",
      "Epoch number 39\n",
      " Current loss 2.9802322387695312e-08\n",
      "\n",
      "Epoch number 39\n",
      " Current loss 1.7330050468444824e-05\n",
      "\n",
      "Epoch number 40\n",
      " Current loss 1.55717134475708e-06\n",
      "\n",
      "Epoch number 40\n",
      " Current loss 0.0\n",
      "\n",
      "Epoch number 41\n",
      " Current loss -1.862645149230957e-08\n",
      "\n",
      "Epoch number 41\n",
      " Current loss 2.9802322387695312e-08\n",
      "\n",
      "Epoch number 42\n",
      " Current loss 0.0\n",
      "\n",
      "Epoch number 42\n",
      " Current loss 7.040798664093018e-07\n",
      "\n",
      "Epoch number 43\n",
      " Current loss 3.0547380447387695e-07\n",
      "\n",
      "Epoch number 43\n",
      " Current loss 2.9802322387695312e-08\n",
      "\n",
      "Epoch number 44\n",
      " Current loss 1.210719347000122e-06\n",
      "\n",
      "Epoch number 44\n",
      " Current loss 1.1175870895385742e-08\n",
      "\n",
      "Epoch number 45\n",
      " Current loss -7.450580596923828e-09\n",
      "\n",
      "Epoch number 45\n",
      " Current loss -7.450580596923828e-09\n",
      "\n",
      "Epoch number 46\n",
      " Current loss 3.725290298461914e-09\n",
      "\n",
      "Epoch number 46\n",
      " Current loss 1.1920928955078125e-07\n",
      "\n",
      "Epoch number 47\n",
      " Current loss 3.725290298461914e-08\n",
      "\n",
      "Epoch number 47\n",
      " Current loss 0.0\n",
      "\n",
      "Epoch number 48\n",
      " Current loss -7.450580596923828e-09\n",
      "\n",
      "Epoch number 48\n",
      " Current loss 2.600252628326416e-06\n",
      "\n",
      "Epoch number 49\n",
      " Current loss 1.4901161193847656e-08\n",
      "\n",
      "Epoch number 49\n",
      " Current loss 1.7248094081878662e-06\n",
      "\n"
     ]
    }
   ],
   "source": [
    "counter = []\n",
    "loss_history = [] \n",
    "iteration_number= 0\n",
    "epochs = 50\n",
    "for epoch in range(0, epochs):\n",
    "    for i, data in enumerate(train_dataloader, 0):\n",
    "        num1, num2, label = data\n",
    "        optimizer.zero_grad()\n",
    "        output1, output2 = net(num1, num2)\n",
    "        loss_contrastive = criterion(output1,output2,label)\n",
    "        loss_contrastive.backward()\n",
    "        optimizer.step()\n",
    "        if i %100 == 0 :\n",
    "            print(\"Epoch number {}\\n Current loss {}\\n\".format(epoch,loss_contrastive.item()))\n",
    "            iteration_number +=10\n",
    "            counter.append(iteration_number)\n",
    "            loss_history.append(loss_contrastive.item())"
   ]
  },
  {
   "cell_type": "code",
   "execution_count": 20,
   "metadata": {
    "colab": {
     "base_uri": "https://localhost:8080/",
     "height": 282
    },
    "id": "0jUGMWaSK5E9",
    "outputId": "72cee709-5789-4480-b6ff-ac1b569d019f"
   },
   "outputs": [
    {
     "data": {
      "text/plain": [
       "[<matplotlib.lines.Line2D at 0x7f36b2d80a50>]"
      ]
     },
     "execution_count": 20,
     "metadata": {},
     "output_type": "execute_result"
    },
    {
     "data": {
      "image/png": "[encoded data removed]",
      "text/plain": [
       "<Figure size 432x288 with 1 Axes>"
      ]
     },
     "metadata": {
      "needs_background": "light"
     },
     "output_type": "display_data"
    }
   ],
   "source": [
    "plt.plot(loss_history)"
   ]
  },
  {
   "cell_type": "markdown",
   "metadata": {
    "id": "pHN-TInBWHFF"
   },
   "source": [
    "# Test\n",
    "\n",
    "We get the embedding for each input number and compare their similarity using cosine similarity metric."
   ]
  },
  {
   "cell_type": "code",
   "execution_count": 25,
   "metadata": {
    "colab": {
     "base_uri": "https://localhost:8080/"
    },
    "id": "As_zWSKKV0e5",
    "outputId": "e1dabd6c-65f5-4b31-9353-b9bceb04d74d"
   },
   "outputs": [
    {
     "name": "stdout",
     "output_type": "stream",
     "text": [
      "tensor([ 0.0573,  0.0212, -0.0590], grad_fn=<AddBackward0>) tensor([ 0.0573,  0.0212, -0.0590], grad_fn=<AddBackward0>)\n"
     ]
    },
    {
     "data": {
      "text/plain": [
       "tensor(1., grad_fn=<DivBackward0>)"
      ]
     },
     "execution_count": 25,
     "metadata": {},
     "output_type": "execute_result"
    }
   ],
   "source": [
    "# both negative -> score should be high\n",
    "num1 = np.array([-1], dtype=np.float32)\n",
    "num2 = np.array([-1], dtype=np.float32)\n",
    "num1 = torch.from_numpy(num1)\n",
    "num2 = torch.from_numpy(num2)\n",
    "\n",
    "out1, out2 = net(num1, num2)\n",
    "print(out1, out2)\n",
    "nn.CosineSimilarity(dim=0)(out1, out2)"
   ]
  },
  {
   "cell_type": "code",
   "execution_count": 26,
   "metadata": {
    "colab": {
     "base_uri": "https://localhost:8080/"
    },
    "id": "wraCdTN1asqW",
    "outputId": "f09bf475-9128-4dc2-ff01-bdabe6f8f347"
   },
   "outputs": [
    {
     "name": "stdout",
     "output_type": "stream",
     "text": [
      "tensor([ 0.0574,  0.0212, -0.0590], grad_fn=<AddBackward0>) tensor([-8.7502, -3.8573,  9.8610], grad_fn=<AddBackward0>)\n"
     ]
    },
    {
     "data": {
      "text/plain": [
       "tensor(-0.9985, grad_fn=<DivBackward0>)"
      ]
     },
     "execution_count": 26,
     "metadata": {},
     "output_type": "execute_result"
    }
   ],
   "source": [
    "# -ve, +ve\n",
    "num1 = np.array([-99], dtype=np.float32)\n",
    "num2 = np.array([200], dtype=np.float32)\n",
    "num1 = torch.from_numpy(num1)\n",
    "num2 = torch.from_numpy(num2)\n",
    "\n",
    "out1, out2 = net(num1, num2)\n",
    "print(out1, out2)\n",
    "nn.CosineSimilarity(dim=0)(out1, out2)"
   ]
  },
  {
   "cell_type": "code",
   "execution_count": 27,
   "metadata": {
    "colab": {
     "base_uri": "https://localhost:8080/"
    },
    "id": "05O3IwJ0WTp_",
    "outputId": "21879456-0b3b-44a4-8556-c6aa00fe384d"
   },
   "outputs": [
    {
     "name": "stdout",
     "output_type": "stream",
     "text": [
      "tensor([-0.2001, -0.0922,  0.2310], grad_fn=<AddBackward0>) tensor([ 0.0574,  0.0212, -0.0590], grad_fn=<AddBackward0>)\n"
     ]
    },
    {
     "data": {
      "text/plain": [
       "tensor(-0.9976, grad_fn=<DivBackward0>)"
      ]
     },
     "execution_count": 27,
     "metadata": {},
     "output_type": "execute_result"
    }
   ],
   "source": [
    "# +ve, -ve\n",
    "num1 = np.array([5], dtype=np.float32)\n",
    "num2 = np.array([-200], dtype=np.float32)\n",
    "num1 = torch.from_numpy(num1)\n",
    "num2 = torch.from_numpy(num2)\n",
    "\n",
    "out1, out2 = net(num1, num2)\n",
    "print(out1, out2)\n",
    "nn.CosineSimilarity(dim=0)(out1, out2)"
   ]
  },
  {
   "cell_type": "code",
   "execution_count": 28,
   "metadata": {
    "colab": {
     "base_uri": "https://localhost:8080/"
    },
    "id": "wV2LFAFMZdwS",
    "outputId": "94ee0b2f-a040-40f3-80cf-db1646662100"
   },
   "outputs": [
    {
     "name": "stdout",
     "output_type": "stream",
     "text": [
      "tensor([-0.4632, -0.2081,  0.5273], grad_fn=<AddBackward0>) tensor([-1.8224, -0.8066,  2.0582], grad_fn=<AddBackward0>)\n"
     ]
    },
    {
     "data": {
      "text/plain": [
       "tensor(1.0000, grad_fn=<DivBackward0>)"
      ]
     },
     "execution_count": 28,
     "metadata": {},
     "output_type": "execute_result"
    }
   ],
   "source": [
    "# +ve, +ve\n",
    "num1 = np.array([11], dtype=np.float32)\n",
    "num2 = np.array([42], dtype=np.float32)\n",
    "num1 = torch.from_numpy(num1)\n",
    "num2 = torch.from_numpy(num2)\n",
    "\n",
    "out1, out2 = net(num1, num2)\n",
    "print(out1, out2)\n",
    "nn.CosineSimilarity(dim=0)(out1, out2)"
   ]
  },
  {
   "cell_type": "code",
   "execution_count": null,
   "metadata": {
    "id": "84Vv1GQuaAcQ"
   },
   "outputs": [],
   "source": []
  },
  {
   "cell_type": "code",
   "execution_count": null,
   "metadata": {},
   "outputs": [],
   "source": []
  }
 ],
 "metadata": {
  "colab": {
   "collapsed_sections": [],
   "name": "siamese-network-simplest",
   "provenance": []
  },
  "kernelspec": {
   "display_name": "Python 3",
   "language": "python",
   "name": "python3"
  },
  "language_info": {
   "codemirror_mode": {
    "name": "ipython",
    "version": 3
   },
   "file_extension": ".py",
   "mimetype": "text/x-python",
   "name": "python",
   "nbconvert_exporter": "python",
   "pygments_lexer": "ipython3",
   "version": "3.7.4"
  }
 },
 "nbformat": 4,
 "nbformat_minor": 1
}
