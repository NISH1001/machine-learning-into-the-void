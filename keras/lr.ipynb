{
 "cells": [
  {
   "cell_type": "code",
   "execution_count": 1,
   "metadata": {
    "collapsed": true
   },
   "outputs": [],
   "source": [
    "import numpy as np\n",
    "import matplotlib.pyplot as plt\n",
    "\n",
    "%matplotlib inline"
   ]
  },
  {
   "cell_type": "code",
   "execution_count": 5,
   "metadata": {},
   "outputs": [
    {
     "data": {
      "text/plain": [
       "<matplotlib.collections.PathCollection at 0x7f22b12e55f8>"
      ]
     },
     "execution_count": 5,
     "metadata": {},
     "output_type": "execute_result"
    },
    {
     "data": {
      "image/png": "[encoded data removed]",
      "text/plain": [
       "<matplotlib.figure.Figure at 0x7f22b9261c18>"
      ]
     },
     "metadata": {},
     "output_type": "display_data"
    }
   ],
   "source": [
    "x = np.arange(-10, 10)\n",
    "m = 1\n",
    "c = 5\n",
    "y = m * x + c\n",
    "plt.scatter(x, y)"
   ]
  },
  {
   "cell_type": "code",
   "execution_count": 9,
   "metadata": {},
   "outputs": [
    {
     "data": {
      "text/plain": [
       "<matplotlib.collections.PathCollection at 0x7f22b12c9cf8>"
      ]
     },
     "execution_count": 9,
     "metadata": {},
     "output_type": "execute_result"
    },
    {
     "data": {
      "image/png": "[encoded data removed]",
      "text/plain": [
       "<matplotlib.figure.Figure at 0x7f22b1189080>"
      ]
     },
     "metadata": {},
     "output_type": "display_data"
    }
   ],
   "source": [
    "np.random.seed(0)\n",
    "noise = np.random.random(len(x))\n",
    "\n",
    "ynoise = m*x + c + 10 * noise\n",
    "\n",
    "plt.scatter(x, ynoise)"
   ]
  },
  {
   "cell_type": "code",
   "execution_count": 11,
   "metadata": {},
   "outputs": [],
   "source": [
    "from keras.models import Sequential\n",
    "from keras.layers import Dense"
   ]
  },
  {
   "cell_type": "code",
   "execution_count": 28,
   "metadata": {},
   "outputs": [
    {
     "name": "stderr",
     "output_type": "stream",
     "text": [
      "/home/lt83/anaconda3/lib/python3.6/site-packages/ipykernel_launcher.py:2: UserWarning: Update your `Dense` call to the Keras 2 API: `Dense(input_dim=1, activation=\"linear\", units=1, kernel_initializer=\"uniform\")`\n",
      "  \n"
     ]
    }
   ],
   "source": [
    "model = Sequential()\n",
    "model.add(Dense(input_dim=1, output_dim=1, init='uniform',activation='linear'))"
   ]
  },
  {
   "cell_type": "code",
   "execution_count": 40,
   "metadata": {},
   "outputs": [
    {
     "name": "stdout",
     "output_type": "stream",
     "text": [
      "_________________________________________________________________\n",
      "Layer (type)                 Output Shape              Param #   \n",
      "=================================================================\n",
      "dense_5 (Dense)              (None, 1)                 2         \n",
      "=================================================================\n",
      "Total params: 2\n",
      "Trainable params: 2\n",
      "Non-trainable params: 0\n",
      "_________________________________________________________________\n"
     ]
    }
   ],
   "source": [
    "model.compile(optimizer='sgd', loss='mse')\n",
    "\n",
    "model.summary()"
   ]
  },
  {
   "cell_type": "code",
   "execution_count": 37,
   "metadata": {},
   "outputs": [
    {
     "name": "stdout",
     "output_type": "stream",
     "text": [
      "[[ 0.96039641]] 10.2653\n"
     ]
    }
   ],
   "source": [
    "weights = model.layers[0].get_weights()\n",
    "#print(weights)\n",
    "\n",
    "w_init = weights[0]\n",
    "b_init = weights[1][0]\n",
    "\n",
    "print(w_init, b_init)"
   ]
  },
  {
   "cell_type": "code",
   "execution_count": 38,
   "metadata": {
    "scrolled": false
   },
   "outputs": [
    {
     "name": "stderr",
     "output_type": "stream",
     "text": [
      "/home/lt83/anaconda3/lib/python3.6/site-packages/keras/models.py:944: UserWarning: The `nb_epoch` argument in `fit` has been renamed `epochs`.\n",
      "  warnings.warn('The `nb_epoch` argument in `fit` '\n"
     ]
    },
    {
     "name": "stdout",
     "output_type": "stream",
     "text": [
      "Epoch 1/100\n",
      "20/20 [==============================] - 0s 8ms/step - loss: 7.8638\n",
      "Epoch 2/100\n",
      "20/20 [==============================] - 0s 136us/step - loss: 7.8628\n",
      "Epoch 3/100\n",
      "20/20 [==============================] - 0s 102us/step - loss: 7.8617\n",
      "Epoch 4/100\n",
      "20/20 [==============================] - 0s 112us/step - loss: 7.8607\n",
      "Epoch 5/100\n",
      "20/20 [==============================] - 0s 66us/step - loss: 7.8596\n",
      "Epoch 6/100\n",
      "20/20 [==============================] - 0s 89us/step - loss: 7.8586\n",
      "Epoch 7/100\n",
      "20/20 [==============================] - 0s 69us/step - loss: 7.8575\n",
      "Epoch 8/100\n",
      "20/20 [==============================] - 0s 78us/step - loss: 7.8565\n",
      "Epoch 9/100\n",
      "20/20 [==============================] - 0s 68us/step - loss: 7.8554\n",
      "Epoch 10/100\n",
      "20/20 [==============================] - 0s 67us/step - loss: 7.8544\n",
      "Epoch 11/100\n",
      "20/20 [==============================] - 0s 121us/step - loss: 7.8533\n",
      "Epoch 12/100\n",
      "20/20 [==============================] - 0s 70us/step - loss: 7.8523\n",
      "Epoch 13/100\n",
      "20/20 [==============================] - 0s 65us/step - loss: 7.8513\n",
      "Epoch 14/100\n",
      "20/20 [==============================] - 0s 76us/step - loss: 7.8502\n",
      "Epoch 15/100\n",
      "20/20 [==============================] - 0s 84us/step - loss: 7.8492\n",
      "Epoch 16/100\n",
      "20/20 [==============================] - 0s 71us/step - loss: 7.8482\n",
      "Epoch 17/100\n",
      "20/20 [==============================] - 0s 80us/step - loss: 7.8471\n",
      "Epoch 18/100\n",
      "20/20 [==============================] - 0s 85us/step - loss: 7.8461\n",
      "Epoch 19/100\n",
      "20/20 [==============================] - 0s 76us/step - loss: 7.8451\n",
      "Epoch 20/100\n",
      "20/20 [==============================] - 0s 79us/step - loss: 7.8441\n",
      "Epoch 21/100\n",
      "20/20 [==============================] - 0s 71us/step - loss: 7.8431\n",
      "Epoch 22/100\n",
      "20/20 [==============================] - 0s 73us/step - loss: 7.8420\n",
      "Epoch 23/100\n",
      "20/20 [==============================] - 0s 66us/step - loss: 7.8410\n",
      "Epoch 24/100\n",
      "20/20 [==============================] - 0s 70us/step - loss: 7.8400\n",
      "Epoch 25/100\n",
      "20/20 [==============================] - 0s 84us/step - loss: 7.8390\n",
      "Epoch 26/100\n",
      "20/20 [==============================] - 0s 77us/step - loss: 7.8380\n",
      "Epoch 27/100\n",
      "20/20 [==============================] - 0s 86us/step - loss: 7.8370\n",
      "Epoch 28/100\n",
      "20/20 [==============================] - 0s 76us/step - loss: 7.8360\n",
      "Epoch 29/100\n",
      "20/20 [==============================] - 0s 64us/step - loss: 7.8350\n",
      "Epoch 30/100\n",
      "20/20 [==============================] - 0s 75us/step - loss: 7.8340\n",
      "Epoch 31/100\n",
      "20/20 [==============================] - 0s 69us/step - loss: 7.8330\n",
      "Epoch 32/100\n",
      "20/20 [==============================] - 0s 74us/step - loss: 7.8320\n",
      "Epoch 33/100\n",
      "20/20 [==============================] - 0s 66us/step - loss: 7.8311\n",
      "Epoch 34/100\n",
      "20/20 [==============================] - 0s 71us/step - loss: 7.8301\n",
      "Epoch 35/100\n",
      "20/20 [==============================] - 0s 70us/step - loss: 7.8291\n",
      "Epoch 36/100\n",
      "20/20 [==============================] - 0s 69us/step - loss: 7.8281\n",
      "Epoch 37/100\n",
      "20/20 [==============================] - 0s 88us/step - loss: 7.8272\n",
      "Epoch 38/100\n",
      "20/20 [==============================] - 0s 76us/step - loss: 7.8262\n",
      "Epoch 39/100\n",
      "20/20 [==============================] - 0s 75us/step - loss: 7.8252\n",
      "Epoch 40/100\n",
      "20/20 [==============================] - 0s 86us/step - loss: 7.8242\n",
      "Epoch 41/100\n",
      "20/20 [==============================] - 0s 78us/step - loss: 7.8233\n",
      "Epoch 42/100\n",
      "20/20 [==============================] - 0s 80us/step - loss: 7.8223\n",
      "Epoch 43/100\n",
      "20/20 [==============================] - 0s 56us/step - loss: 7.8214\n",
      "Epoch 44/100\n",
      "20/20 [==============================] - 0s 69us/step - loss: 7.8204\n",
      "Epoch 45/100\n",
      "20/20 [==============================] - 0s 70us/step - loss: 7.8195\n",
      "Epoch 46/100\n",
      "20/20 [==============================] - 0s 70us/step - loss: 7.8185\n",
      "Epoch 47/100\n",
      "20/20 [==============================] - 0s 71us/step - loss: 7.8176\n",
      "Epoch 48/100\n",
      "20/20 [==============================] - 0s 70us/step - loss: 7.8166\n",
      "Epoch 49/100\n",
      "20/20 [==============================] - 0s 75us/step - loss: 7.8157\n",
      "Epoch 50/100\n",
      "20/20 [==============================] - 0s 71us/step - loss: 7.8147\n",
      "Epoch 51/100\n",
      "20/20 [==============================] - 0s 73us/step - loss: 7.8138\n",
      "Epoch 52/100\n",
      "20/20 [==============================] - 0s 58us/step - loss: 7.8129\n",
      "Epoch 53/100\n",
      "20/20 [==============================] - 0s 63us/step - loss: 7.8120\n",
      "Epoch 54/100\n",
      "20/20 [==============================] - 0s 66us/step - loss: 7.8110\n",
      "Epoch 55/100\n",
      "20/20 [==============================] - 0s 68us/step - loss: 7.8101\n",
      "Epoch 56/100\n",
      "20/20 [==============================] - 0s 68us/step - loss: 7.8092\n",
      "Epoch 57/100\n",
      "20/20 [==============================] - 0s 71us/step - loss: 7.8083\n",
      "Epoch 58/100\n",
      "20/20 [==============================] - 0s 79us/step - loss: 7.8073\n",
      "Epoch 59/100\n",
      "20/20 [==============================] - 0s 68us/step - loss: 7.8064\n",
      "Epoch 60/100\n",
      "20/20 [==============================] - 0s 69us/step - loss: 7.8055\n",
      "Epoch 61/100\n",
      "20/20 [==============================] - 0s 67us/step - loss: 7.8046\n",
      "Epoch 62/100\n",
      "20/20 [==============================] - 0s 74us/step - loss: 7.8037\n",
      "Epoch 63/100\n",
      "20/20 [==============================] - 0s 62us/step - loss: 7.8028\n",
      "Epoch 64/100\n",
      "20/20 [==============================] - 0s 59us/step - loss: 7.8019\n",
      "Epoch 65/100\n",
      "20/20 [==============================] - 0s 79us/step - loss: 7.8010\n",
      "Epoch 66/100\n",
      "20/20 [==============================] - 0s 58us/step - loss: 7.8001\n",
      "Epoch 67/100\n",
      "20/20 [==============================] - 0s 85us/step - loss: 7.7992\n",
      "Epoch 68/100\n",
      "20/20 [==============================] - 0s 58us/step - loss: 7.7983\n",
      "Epoch 69/100\n",
      "20/20 [==============================] - 0s 80us/step - loss: 7.7975\n",
      "Epoch 70/100\n",
      "20/20 [==============================] - 0s 113us/step - loss: 7.7966\n",
      "Epoch 71/100\n",
      "20/20 [==============================] - 0s 122us/step - loss: 7.7957\n",
      "Epoch 72/100\n",
      "20/20 [==============================] - 0s 107us/step - loss: 7.7948\n",
      "Epoch 73/100\n",
      "20/20 [==============================] - 0s 74us/step - loss: 7.7939\n",
      "Epoch 74/100\n",
      "20/20 [==============================] - 0s 84us/step - loss: 7.7931\n",
      "Epoch 75/100\n",
      "20/20 [==============================] - 0s 115us/step - loss: 7.7922\n",
      "Epoch 76/100\n",
      "20/20 [==============================] - 0s 55us/step - loss: 7.7913\n",
      "Epoch 77/100\n",
      "20/20 [==============================] - 0s 62us/step - loss: 7.7905\n",
      "Epoch 78/100\n",
      "20/20 [==============================] - 0s 61us/step - loss: 7.7896\n",
      "Epoch 79/100\n",
      "20/20 [==============================] - 0s 58us/step - loss: 7.7888\n",
      "Epoch 80/100\n",
      "20/20 [==============================] - 0s 62us/step - loss: 7.7879\n",
      "Epoch 81/100\n",
      "20/20 [==============================] - 0s 106us/step - loss: 7.7870\n",
      "Epoch 82/100\n",
      "20/20 [==============================] - 0s 61us/step - loss: 7.7862\n",
      "Epoch 83/100\n",
      "20/20 [==============================] - 0s 63us/step - loss: 7.7853\n",
      "Epoch 84/100\n",
      "20/20 [==============================] - 0s 59us/step - loss: 7.7845\n",
      "Epoch 85/100\n",
      "20/20 [==============================] - 0s 79us/step - loss: 7.7837\n",
      "Epoch 86/100\n",
      "20/20 [==============================] - 0s 64us/step - loss: 7.7828\n",
      "Epoch 87/100\n",
      "20/20 [==============================] - 0s 69us/step - loss: 7.7820\n",
      "Epoch 88/100\n",
      "20/20 [==============================] - 0s 97us/step - loss: 7.7811\n",
      "Epoch 89/100\n",
      "20/20 [==============================] - 0s 71us/step - loss: 7.7803\n",
      "Epoch 90/100\n",
      "20/20 [==============================] - 0s 72us/step - loss: 7.7795\n",
      "Epoch 91/100\n",
      "20/20 [==============================] - 0s 71us/step - loss: 7.7787\n",
      "Epoch 92/100\n",
      "20/20 [==============================] - 0s 72us/step - loss: 7.7778\n",
      "Epoch 93/100\n",
      "20/20 [==============================] - 0s 69us/step - loss: 7.7770\n",
      "Epoch 94/100\n",
      "20/20 [==============================] - 0s 73us/step - loss: 7.7762\n",
      "Epoch 95/100\n",
      "20/20 [==============================] - 0s 65us/step - loss: 7.7754\n",
      "Epoch 96/100\n",
      "20/20 [==============================] - 0s 65us/step - loss: 7.7746\n",
      "Epoch 97/100\n",
      "20/20 [==============================] - 0s 63us/step - loss: 7.7738\n",
      "Epoch 98/100\n",
      "20/20 [==============================] - 0s 71us/step - loss: 7.7729\n",
      "Epoch 99/100\n",
      "20/20 [==============================] - 0s 64us/step - loss: 7.7721\n",
      "Epoch 100/100\n",
      "20/20 [==============================] - 0s 72us/step - loss: 7.7713\n"
     ]
    },
    {
     "data": {
      "text/plain": [
       "<keras.callbacks.History at 0x7f22df750ac8>"
      ]
     },
     "execution_count": 38,
     "metadata": {},
     "output_type": "execute_result"
    }
   ],
   "source": [
    "model.fit(x, ynoise, nb_epoch=100)"
   ]
  },
  {
   "cell_type": "code",
   "execution_count": 51,
   "metadata": {},
   "outputs": [
    {
     "name": "stdout",
     "output_type": "stream",
     "text": [
      "[[ 0.96208245]] 10.3619\n"
     ]
    }
   ],
   "source": [
    "weights_new = model.layers[0].get_weights()\n",
    "#print(weights)\n",
    "\n",
    "w_final = weights_new[0]\n",
    "b_final = weights_new[1][0]\n",
    "y_pred = w_final[0][0]*x\n",
    "\n",
    "print(w_final, b_final)"
   ]
  },
  {
   "cell_type": "code",
   "execution_count": 52,
   "metadata": {},
   "outputs": [
    {
     "data": {
      "image/png": "[encoded data removed]",
      "text/plain": [
       "<matplotlib.figure.Figure at 0x7f227b2135c0>"
      ]
     },
     "metadata": {},
     "output_type": "display_data"
    }
   ],
   "source": [
    "plt.scatter(x, ynoise, label='data')\n",
    "plt.plot(x, y_pred + b_final, label='prediction')\n",
    "plt.legend()\n",
    "plt.show()"
   ]
  },
  {
   "cell_type": "code",
   "execution_count": null,
   "metadata": {
    "collapsed": true
   },
   "outputs": [],
   "source": []
  }
 ],
 "metadata": {
  "kernelspec": {
   "display_name": "Python 3",
   "language": "python",
   "name": "python3"
  },
  "language_info": {
   "codemirror_mode": {
    "name": "ipython",
    "version": 3
   },
   "file_extension": ".py",
   "mimetype": "text/x-python",
   "name": "python",
   "nbconvert_exporter": "python",
   "pygments_lexer": "ipython3",
   "version": "3.6.3"
  }
 },
 "nbformat": 4,
 "nbformat_minor": 2
}
