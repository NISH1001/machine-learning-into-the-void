{
 "cells": [
  {
   "cell_type": "code",
   "execution_count": 1,
   "metadata": {},
   "outputs": [
    {
     "name": "stderr",
     "output_type": "stream",
     "text": [
      "/home/lt83/anaconda3/lib/python3.6/importlib/_bootstrap.py:219: RuntimeWarning: compiletime version 3.5 of module 'tensorflow.python.framework.fast_tensor_util' does not match runtime version 3.6\n",
      "  return f(*args, **kwds)\n"
     ]
    }
   ],
   "source": [
    "import numpy as np\n",
    "import tensorflow as tf\n",
    "import matplotlib.pyplot as plt\n",
    "\n",
    "from sklearn.datasets import load_digits\n",
    "from sklearn.metrics import roc_auc_score\n",
    "from sklearn.model_selection import train_test_split\n",
    "\n",
    "% matplotlib inline"
   ]
  },
  {
   "cell_type": "markdown",
   "metadata": {},
   "source": [
    "## Mnist Dataset Classification using Logistic Regression\n",
    "\n",
    "Let's only use two digits to reduce the problem to binary classification because we are using Logistic Regression that is used for linearly separable problem.\n",
    "\n",
    "### Input X\n",
    "It is an array/matrix of **N** number of rows and **M** columns i.e. NXM matrix.\n",
    "\n",
    "Each row represent a single data instance that is a single digit. Each row is a vector of length **M**. So, there are **M** feature for a single data instance.\n",
    "\n",
    "[  \n",
    "    [x00, x01, x02, ..., x0m],  \n",
    "    [x10, x11, x12, ..., x1m],  \n",
    "    [x20, x21, x22, ..., x2m],  \n",
    "    ...,  \n",
    "    ...  \n",
    "    [xn0, xn1, xn2, ..., xnm]  \n",
    "]  \n",
    "\n",
    "### Target Y\n",
    "Each image represent a certain digit from 0 to 9. So, we have labelled data for performing **Supervised Classification**.\n",
    "\n",
    "Generally, we encode each label into **one-hot-binary-vector** of length **k**. Like:\n",
    "[1, 0, 0, 0, 0, 0, 0, 0, 0, 0] --> digit '0'  \n",
    "[0, 1, 0, 0, 0, 0, 0, 0, 0, 0] --> digit '1'  \n",
    "[0, 0, 1, 0, 0, 0, 0, 0, 0, 0] --> digit '2'  \n",
    "...  \n",
    "...  \n",
    "[0, 0, 0, 0, 0, 0, 0, 0, 0, 1] --> digit '9'\n",
    "\n",
    "### In our following example\n",
    "- We will only be classifying only two digits: 0 and 1\n",
    "- Each image is of 8x8 size\n",
    "- After vectorizing, the resulting vector is of length 64. That is there are 64 pixels in the  image.\n",
    "- Each pixel's value is in the range [0, 255]. Hence, each image is a grayscale image.\n",
    "- Each image is labelled either 0 or 1 that represent a digit **zero** or **one**"
   ]
  },
  {
   "cell_type": "code",
   "execution_count": 2,
   "metadata": {},
   "outputs": [
    {
     "name": "stdout",
     "output_type": "stream",
     "text": [
      "y [shape - (360,)]: [0 1 0 1 0 1 0 0 1 1]\n",
      "X [shape - (360, 64)]:\n",
      "X:\n",
      " [[  0.   0.   5.  13.   9.   1.   0.   0.   0.   0.]\n",
      " [  0.   0.   0.  12.  13.   5.   0.   0.   0.   0.]\n",
      " [  0.   0.   1.   9.  15.  11.   0.   0.   0.   0.]]\n",
      "y:\n",
      " [0 1 0 1 0 1 0 0 1 1]\n"
     ]
    },
    {
     "data": {
      "text/plain": [
       "<matplotlib.image.AxesImage at 0x7f57aeaf0da0>"
      ]
     },
     "execution_count": 2,
     "metadata": {},
     "output_type": "execute_result"
    },
    {
     "data": {
      "image/png": "[encoded data removed]",
      "text/plain": [
       "<matplotlib.figure.Figure at 0x7f57ae8d1d30>"
      ]
     },
     "metadata": {},
     "output_type": "display_data"
    }
   ],
   "source": [
    "# load only two-digits dataset by passing the argument '2'\n",
    "digits = load_digits(2)\n",
    "X = digits.data\n",
    "Y = digits.target\n",
    "\n",
    "print(\"y [shape - %s]:\" % (str(Y.shape)), Y[:10])\n",
    "print(\"X [shape - %s]:\" % (str(X.shape)))\n",
    "\n",
    "print('X:\\n',X[:3,:10])\n",
    "print('y:\\n',Y[:10])\n",
    "plt.imshow(X[0].reshape([8,8]))"
   ]
  },
  {
   "cell_type": "markdown",
   "metadata": {},
   "source": [
    "## Let's Use Hold Out Method\n",
    "Instead of using all the training data, we use some major portion of it for training and remaining for testing the accuracy of the model. This is called **holdout** method.\n",
    "\n",
    "So, we create **Train Set** and **Test Set**.\n",
    "\n",
    "#### Train Set\n",
    "Used for actually building the machine leanring model. It is generally 70% of total data instance.\n",
    "\n",
    "#### Test Set\n",
    "It is used for evaluating the built model. It is generally 30% of total data instance. That is:  \n",
    "`test_set = whole_data - train_set`"
   ]
  },
  {
   "cell_type": "code",
   "execution_count": 3,
   "metadata": {},
   "outputs": [],
   "source": [
    "X_train, X_test, Y_train, Y_test = train_test_split(\n",
    "    X, Y, random_state=42)"
   ]
  },
  {
   "cell_type": "markdown",
   "metadata": {},
   "source": [
    "# Let's do it, alright!\n",
    "\n",
    "First, we have to use sigmoid to predict the probability of a label.\n",
    "$$\n",
    "P(y=1|X) = \\sigma(X \\cdot W + b)\n",
    "$$\n",
    "\n",
    "Then, we have to calculate the error using **cross-entropy loss**. Cross entropy cost function is used for probabilistic distribution.  \n",
    "  \n",
    "  \n",
    "$$\n",
    "\\text{loss} = -\\log\\left(P\\left(y_\\text{predicted} = 1\\right)\\right)\\cdot y_\\text{true} - \\log\\left(1 - P\\left(y_\\text{predicted} = 1\\right)\\right)\\cdot\\left(1 - y_\\text{true}\\right)\n",
    "$$\n",
    "\n",
    "$\\sigma(x)$ is available via `tf.nn.sigmoid` and matrix multiplication via `tf.matmul`\n",
    "\n",
    "### Note:\n",
    "Generally, we use **softmax activation** instead of **sigmoid** with the cross-entropy loss because softmax activation distributes the probability througout each output node.  \n",
    "\n",
    "But, since it is a binary classification, using sigmoid is same as softmax. For multi-class classification use sofmax with cross-entropy.\n",
    "\n",
    "In case you are wondering why using sigmoid is identical to softmax for binary (single-class) classification, refer to this:  \n",
    "https://stats.stackexchange.com/questions/207049/neural-network-for-binary-classification-use-1-or-2-output-neurons/207067#207067"
   ]
  },
  {
   "cell_type": "code",
   "execution_count": 4,
   "metadata": {},
   "outputs": [
    {
     "name": "stdout",
     "output_type": "stream",
     "text": [
      "<tf.Variable 'weights:0' shape=(64, 1) dtype=float32_ref>\n",
      "<tf.Variable 'b:0' shape=() dtype=float32_ref>\n"
     ]
    }
   ],
   "source": [
    "# create global variables for weights and bias which have to be updated iteratively\n",
    "weights = tf.Variable(dtype=tf.float32, initial_value=2*np.random.random((X.shape[1], 1))*0.001, name='weights')\n",
    "b = tf.Variable(dtype=tf.float32, initial_value=1, name='b')\n",
    "\n",
    "print(weights)\n",
    "print(b)"
   ]
  },
  {
   "cell_type": "code",
   "execution_count": 5,
   "metadata": {},
   "outputs": [
    {
     "name": "stdout",
     "output_type": "stream",
     "text": [
      "Tensor(\"input_x:0\", dtype=float32)\n",
      "Tensor(\"input_y:0\", dtype=float32)\n"
     ]
    }
   ],
   "source": [
    "# create a dummy value representing x and y data\n",
    "input_X = tf.placeholder(dtype=tf.float32, name='input_x')\n",
    "input_Y = tf.placeholder(dtype=tf.float32, name='input_y')\n",
    "\n",
    "print(input_X)\n",
    "print(input_Y)"
   ]
  },
  {
   "cell_type": "markdown",
   "metadata": {},
   "source": [
    "## Optimization\n",
    "\n",
    "In a machine learning problem, the main goal is to minimize the error/loss. There are various ways to minimize the loss.\n",
    "\n",
    "Generally, we try to find minima of the loss function. In a 2d space, we do it by finding the point where first derivative of that curve/function is zero.  \n",
    "\n",
    "Example:\n",
    "\n",
    "$$\n",
    "y = (x-2)^2\n",
    "$$\n",
    "\n",
    "Here,\n",
    "$$\n",
    "dy/dx = 2 * (x-2)\n",
    "$$\n",
    "\n",
    "So, for finding minima\n",
    "$$\n",
    "dy/dx = 0\n",
    "$$\n",
    "\n",
    "$$\n",
    "2 * (x-2) = 0\n",
    "$$\n",
    "\n",
    "$$\n",
    "x = 2\n",
    "$$\n",
    "\n",
    "The scenario is similar in higher dimension. \n",
    "\n",
    "### But\n",
    "The whole point of using machine learning is to find a **glorified curve** that really fits our data. So, we don't have enough power to ideally evaluate the curve to find that solution. That is why the straight-forward solution mentioned above is quite painful.\n",
    "\n",
    "The weights are randomly initialized because we don't know the ideal values. So, we employ a certain method/technique that allows us to start from a random step and slowly move towards  the minima.  \n",
    "\n",
    "**model = f(w1, w2, w3, ..., wn)**\n",
    "\n",
    "## Gradient Descent\n",
    "It is one of the widely used method for optimization of a machine learning model. \n",
    "\n",
    "The game is like a hill-climbing race. We have to reach the top of a hill fast.\n",
    "- we start from  a random point/position: `weight = w0`\n",
    "- we find the **most-steep** direction. This is done using a gradient since a gradient points to the direction of steepest ascent.\n",
    "- We take a small step in that direction. We reach a new position.\n",
    "- On this new position we repeat the process until we are no longer pointing anywhere.\n",
    "\n",
    "So, gradient descent is like this but imagine it to be inverted  hill and you have to find the bottom of that hill.\n",
    "So, instead of going in the direction of the  gradient, we move in the opposite direction to it.\n",
    "\n",
    "$$\n",
    "wnew = wold - rate * gradient\n",
    "$$"
   ]
  },
  {
   "cell_type": "code",
   "execution_count": 6,
   "metadata": {},
   "outputs": [
    {
     "name": "stdout",
     "output_type": "stream",
     "text": [
      "Tensor(\"Squeeze:0\", dtype=float32)\n",
      "Tensor(\"Neg:0\", dtype=float32)\n",
      "name: \"GradientDescent\"\n",
      "op: \"NoOp\"\n",
      "input: \"^GradientDescent/update_weights/ApplyGradientDescent\"\n",
      "input: \"^GradientDescent/update_b/ApplyGradientDescent\"\n",
      "\n"
     ]
    }
   ],
   "source": [
    "predicted_y = tf.squeeze(tf.nn.sigmoid(tf.add( tf.matmul(input_X, weights) , b)))\n",
    "print(predicted_y)\n",
    "\n",
    "loss = -tf.reduce_mean(input_Y*tf.log(predicted_y) + (1-input_Y)*tf.log(1-predicted_y))\n",
    "print(loss)\n",
    "\n",
    "optimizer = tf.train.GradientDescentOptimizer(0.01).minimize(loss)\n",
    "print(optimizer)"
   ]
  },
  {
   "cell_type": "markdown",
   "metadata": {},
   "source": [
    "## Run The Graph In A Session"
   ]
  },
  {
   "cell_type": "code",
   "execution_count": 7,
   "metadata": {},
   "outputs": [
    {
     "name": "stdout",
     "output_type": "stream",
     "text": [
      "loss at iter 0: 2.2623\n",
      "train auc: 0.994784804567\n",
      "test auc: 0.999011857708\n",
      "loss at iter 1: 1.4780\n",
      "train auc: 0.999505928854\n",
      "test auc: 0.999011857708\n",
      "loss at iter 2: 0.3847\n",
      "train auc: 1.0\n",
      "test auc: 1.0\n",
      "loss at iter 3: 0.0110\n",
      "train auc: 1.0\n",
      "test auc: 1.0\n",
      "loss at iter 4: 0.0105\n",
      "train auc: 1.0\n",
      "test auc: 1.0\n"
     ]
    }
   ],
   "source": [
    "with tf.Session() as sess:\n",
    "    sess.run(tf.global_variables_initializer())\n",
    "    for i in range(5):\n",
    "        sess.run(optimizer, {input_X: X_train, input_Y: Y_train})\n",
    "        loss_i = sess.run(loss, {input_X: X_train, input_Y: Y_train})\n",
    "        print(\"loss at iter %i: %.4f\" % (i, loss_i))\n",
    "        print(\"train auc:\", roc_auc_score(Y_train, sess.run(predicted_y, {input_X:X_train})))\n",
    "        print(\"test auc:\", roc_auc_score(Y_test, sess.run(predicted_y, {input_X:X_test})))"
   ]
  },
  {
   "cell_type": "code",
   "execution_count": null,
   "metadata": {
    "collapsed": true
   },
   "outputs": [],
   "source": []
  }
 ],
 "metadata": {
  "kernelspec": {
   "display_name": "Python 3",
   "language": "python",
   "name": "python3"
  },
  "language_info": {
   "codemirror_mode": {
    "name": "ipython",
    "version": 3
   },
   "file_extension": ".py",
   "mimetype": "text/x-python",
   "name": "python",
   "nbconvert_exporter": "python",
   "pygments_lexer": "ipython3",
   "version": "3.6.3"
  }
 },
 "nbformat": 4,
 "nbformat_minor": 2
}
