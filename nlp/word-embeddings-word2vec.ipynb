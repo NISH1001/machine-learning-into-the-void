{
 "cells": [
  {
   "cell_type": "code",
   "execution_count": 2,
   "metadata": {},
   "outputs": [],
   "source": [
    "import nltk\n",
    "\n",
    "import matplotlib.pyplot as plt\n",
    "import numpy as np\n",
    "\n",
    "%matplotlib inline"
   ]
  },
  {
   "cell_type": "code",
   "execution_count": 3,
   "metadata": {},
   "outputs": [],
   "source": [
    "from gensim.models import Word2Vec"
   ]
  },
  {
   "cell_type": "markdown",
   "metadata": {},
   "source": [
    "## word2vec\n",
    "Before learning about word2vec, the concept of **word embedding** is highly required.  \n",
    "\n",
    "#### Word Embedding\n",
    "Word embedding is nothing but a feature extracting technique where words are represented in numerical forms (vectors) that can be used by computers for further process. In order words, it is one of the means to encode textual data into \n",
    "vector representation. Some feature representations of text can be:\n",
    "- one hot encoding\n",
    "- term frequence\n",
    "- tf-idf\n",
    "\n",
    "The main problem with these features is that they are not able to fully encode the actual meaning of the text. ANd also not to forget that text manipuation cannot be done with such features. Moreover, since textual data is highly concentrated to some type of **concepts**, it is required to encode these data into a **concept space** where similar words/tokens/documents occupy some regions of the space. \n",
    "\n",
    "Think of this concept space as 3 dimensional space (although it is a **n** dimensional space) where every point represent word/token/document.\n",
    "\n",
    "In such space, the encodings for **cat**, **tiger**, etc may lie in same cluster. Hence, giving us the information that those are related tokens.\n",
    "\n",
    "### So, what is word2vec?\n",
    "**word2vec** is nothing but a machine learning technique (to be more precise, it is a set of models) to produce word embeddings. Each vector is a set of floating point number that be used for various mathematical calculation.\n",
    "\n",
    "#### Example\n",
    "Using word2vec, we can do some amazing vector arithmetic like:\n",
    "- man - woman + king ≈ queen\n",
    "- paris - france + italy ≈ rome\n",
    "\n",
    "\n",
    "Each term in the equation is a vector representation of that token"
   ]
  },
  {
   "cell_type": "code",
   "execution_count": 4,
   "metadata": {},
   "outputs": [],
   "source": [
    "documents = [\n",
    "    \"i am nish. i am paradox. i am gru\",\n",
    "    \"i love coffee. coffee is life. i am caffeine addict. me without caffeine is like a dead man\",\n",
    "    \"i like to go into deep conversation related to life and shit\",\n",
    "    \"life is itself a paradox for me.\"\n",
    "    ]"
   ]
  },
  {
   "cell_type": "code",
   "execution_count": 5,
   "metadata": {},
   "outputs": [
    {
     "data": {
      "text/plain": [
       "[['i', 'am', 'nish', '.', 'i', 'am', 'paradox', '.', 'i', 'am', 'gru'],\n",
       " ['i',\n",
       "  'love',\n",
       "  'coffee',\n",
       "  '.',\n",
       "  'coffee',\n",
       "  'is',\n",
       "  'life',\n",
       "  '.',\n",
       "  'i',\n",
       "  'am',\n",
       "  'caffeine',\n",
       "  'addict',\n",
       "  '.',\n",
       "  'me',\n",
       "  'without',\n",
       "  'caffeine',\n",
       "  'is',\n",
       "  'like',\n",
       "  'a',\n",
       "  'dead',\n",
       "  'man'],\n",
       " ['i',\n",
       "  'like',\n",
       "  'to',\n",
       "  'go',\n",
       "  'into',\n",
       "  'deep',\n",
       "  'conversation',\n",
       "  'related',\n",
       "  'to',\n",
       "  'life',\n",
       "  'and',\n",
       "  'shit'],\n",
       " ['life', 'is', 'itself', 'a', 'paradox', 'for', 'me', '.']]"
      ]
     },
     "execution_count": 5,
     "metadata": {},
     "output_type": "execute_result"
    }
   ],
   "source": [
    "# tokenize\n",
    "tokens = [nltk.word_tokenize(doc) for doc in documents]\n",
    "tokens"
   ]
  },
  {
   "cell_type": "code",
   "execution_count": 6,
   "metadata": {},
   "outputs": [
    {
     "name": "stdout",
     "output_type": "stream",
     "text": [
      "Word2Vec(vocab=28, size=2, alpha=0.025)\n",
      "['i', 'am', 'nish', '.', 'paradox', 'gru', 'love', 'coffee', 'is', 'life', 'caffeine', 'addict', 'me', 'without', 'like', 'a', 'dead', 'man', 'to', 'go', 'into', 'deep', 'conversation', 'related', 'and', 'shit', 'itself', 'for']\n"
     ]
    }
   ],
   "source": [
    "# train model\n",
    "model = Word2Vec(tokens, min_count=1, size=2)\n",
    "print(model)\n",
    "\n",
    "# access vocabulary\n",
    "words = list(model.wv.vocab)\n",
    "print(words)"
   ]
  },
  {
   "cell_type": "code",
   "execution_count": 7,
   "metadata": {},
   "outputs": [
    {
     "name": "stdout",
     "output_type": "stream",
     "text": [
      "[-0.2400958   0.02093609]\n",
      "[-0.03497658  0.08280171]\n",
      "[0.22861105 0.18768336]\n"
     ]
    },
    {
     "name": "stderr",
     "output_type": "stream",
     "text": [
      "/home/paradox/anaconda3/envs/machine-learning/lib/python3.6/site-packages/ipykernel_launcher.py:2: DeprecationWarning: Call to deprecated `__getitem__` (Method will be removed in 4.0.0, use self.wv.__getitem__() instead).\n",
      "  \n",
      "/home/paradox/anaconda3/envs/machine-learning/lib/python3.6/site-packages/ipykernel_launcher.py:3: DeprecationWarning: Call to deprecated `__getitem__` (Method will be removed in 4.0.0, use self.wv.__getitem__() instead).\n",
      "  This is separate from the ipykernel package so we can avoid doing imports until\n",
      "/home/paradox/anaconda3/envs/machine-learning/lib/python3.6/site-packages/ipykernel_launcher.py:4: DeprecationWarning: Call to deprecated `__getitem__` (Method will be removed in 4.0.0, use self.wv.__getitem__() instead).\n",
      "  after removing the cwd from sys.path.\n"
     ]
    }
   ],
   "source": [
    "# access vector\n",
    "print(model['nish'])\n",
    "print(model['gru'])\n",
    "print(model['paradox'])"
   ]
  },
  {
   "cell_type": "code",
   "execution_count": 8,
   "metadata": {},
   "outputs": [
    {
     "name": "stdout",
     "output_type": "stream",
     "text": [
      "Word2Vec(vocab=28, size=2, alpha=0.025)\n"
     ]
    }
   ],
   "source": [
    "# save model\n",
    "model.save('data/paradoxicalmodel.bin')\n",
    "\n",
    "# load model\n",
    "new_model = Word2Vec.load('data/paradoxicalmodel.bin')\n",
    "print(new_model)"
   ]
  },
  {
   "cell_type": "code",
   "execution_count": 9,
   "metadata": {},
   "outputs": [
    {
     "name": "stdout",
     "output_type": "stream",
     "text": [
      "['i', 'am', 'nish', '.', 'paradox', 'gru', 'love', 'coffee', 'is', 'life', 'caffeine', 'addict', 'me', 'without', 'like', 'a', 'dead', 'man', 'to', 'go', 'into', 'deep', 'conversation', 'related', 'and', 'shit', 'itself', 'for']\n",
      "[[-0.248803   -0.193855  ]\n",
      " [-0.09669492  0.04684785]\n",
      " [-0.2400958   0.02093609]\n",
      " [-0.08202514 -0.02138234]\n",
      " [ 0.22861105  0.18768336]\n",
      " [-0.03497658  0.08280171]\n",
      " [ 0.17749889 -0.06015008]\n",
      " [-0.22555803 -0.08973821]\n",
      " [-0.09323301 -0.08995545]\n",
      " [-0.19806302 -0.2499276 ]\n",
      " [ 0.13824627  0.127808  ]\n",
      " [ 0.2124082   0.22289233]\n",
      " [-0.19358931 -0.0439013 ]\n",
      " [-0.07380816  0.18490836]\n",
      " [ 0.05871503  0.00749385]\n",
      " [-0.05825228 -0.09508781]\n",
      " [-0.01512721  0.02311985]\n",
      " [-0.08053851  0.17686458]\n",
      " [-0.01979793  0.00121031]\n",
      " [-0.07582299 -0.0517593 ]\n",
      " [-0.10207701 -0.06615554]\n",
      " [-0.1806654  -0.2151306 ]\n",
      " [-0.14659494 -0.1115877 ]\n",
      " [ 0.05606684 -0.07784493]\n",
      " [-0.07708518  0.06315464]\n",
      " [-0.10067043  0.23128521]\n",
      " [-0.21931466  0.0729467 ]\n",
      " [-0.00464101 -0.22324654]]\n"
     ]
    },
    {
     "name": "stderr",
     "output_type": "stream",
     "text": [
      "/home/paradox/anaconda3/envs/machine-learning/lib/python3.6/site-packages/ipykernel_launcher.py:3: DeprecationWarning: Call to deprecated `__getitem__` (Method will be removed in 4.0.0, use self.wv.__getitem__() instead).\n",
      "  This is separate from the ipykernel package so we can avoid doing imports until\n"
     ]
    },
    {
     "data": {
      "text/plain": [
       "<matplotlib.collections.PathCollection at 0x7fb145c88240>"
      ]
     },
     "execution_count": 9,
     "metadata": {},
     "output_type": "execute_result"
    },
    {
     "data": {
      "image/png": "[encoded data removed]",
      "text/plain": [
       "<Figure size 432x288 with 1 Axes>"
      ]
     },
     "metadata": {},
     "output_type": "display_data"
    }
   ],
   "source": [
    "# visualize\n",
    "print(words)\n",
    "vectors = model[words]\n",
    "print(vectors)\n",
    "X = vectors[:, 0]\n",
    "Y = vectors[:, 1]\n",
    "plt.scatter(X, Y)"
   ]
  },
  {
   "cell_type": "code",
   "execution_count": 10,
   "metadata": {},
   "outputs": [
    {
     "data": {
      "image/png": "[encoded data removed]",
      "text/plain": [
       "<Figure size 432x288 with 1 Axes>"
      ]
     },
     "metadata": {},
     "output_type": "display_data"
    }
   ],
   "source": [
    "# scatter plot with labelled point\n",
    "fig, ax = plt.subplots()\n",
    "ax.scatter(X, Y)\n",
    "\n",
    "for i, txt in enumerate(words):\n",
    "    ax.annotate(txt, (X[i],Y[i]))"
   ]
  },
  {
   "cell_type": "code",
   "execution_count": 11,
   "metadata": {},
   "outputs": [
    {
     "name": "stderr",
     "output_type": "stream",
     "text": [
      "/home/paradox/anaconda3/envs/machine-learning/lib/python3.6/site-packages/ipykernel_launcher.py:2: DeprecationWarning: Call to deprecated `most_similar` (Method will be removed in 4.0.0, use self.wv.most_similar() instead).\n",
      "  \n"
     ]
    },
    {
     "data": {
      "text/plain": [
       "[('deep', 0.9995967149734497),\n",
       " ('a', 0.9927491545677185),\n",
       " ('is', 0.991148829460144)]"
      ]
     },
     "execution_count": 11,
     "metadata": {},
     "output_type": "execute_result"
    }
   ],
   "source": [
    "# find top 'n' similar tokens\n",
    "model.most_similar(positive=['life'], topn=3)"
   ]
  },
  {
   "cell_type": "code",
   "execution_count": 12,
   "metadata": {},
   "outputs": [
    {
     "name": "stderr",
     "output_type": "stream",
     "text": [
      "/home/paradox/anaconda3/envs/machine-learning/lib/python3.6/site-packages/ipykernel_launcher.py:5: DeprecationWarning: Call to deprecated `__getitem__` (Method will be removed in 4.0.0, use self.wv.__getitem__() instead).\n",
      "  \"\"\"\n",
      "/home/paradox/anaconda3/envs/machine-learning/lib/python3.6/site-packages/ipykernel_launcher.py:6: DeprecationWarning: Call to deprecated `__getitem__` (Method will be removed in 4.0.0, use self.wv.__getitem__() instead).\n",
      "  \n"
     ]
    },
    {
     "data": {
      "text/plain": [
       "-0.02986482"
      ]
     },
     "execution_count": 12,
     "metadata": {},
     "output_type": "execute_result"
    }
   ],
   "source": [
    "# word2vec arithmetic\n",
    "\n",
    "# example -> if i remove coffee from life, there will be no addiction\n",
    "# so, the similarity of res and addict is negative -> the vectors are far apart (beyond 90 degree)\n",
    "res = model['life'] - model['coffee']\n",
    "np.dot(res, model['addict'])"
   ]
  },
  {
   "cell_type": "code",
   "execution_count": null,
   "metadata": {},
   "outputs": [],
   "source": []
  }
 ],
 "metadata": {
  "kernelspec": {
   "display_name": "Python 3",
   "language": "python",
   "name": "python3"
  },
  "language_info": {
   "codemirror_mode": {
    "name": "ipython",
    "version": 3
   },
   "file_extension": ".py",
   "mimetype": "text/x-python",
   "name": "python",
   "nbconvert_exporter": "python",
   "pygments_lexer": "ipython3",
   "version": "3.6.4"
  }
 },
 "nbformat": 4,
 "nbformat_minor": 2
}
