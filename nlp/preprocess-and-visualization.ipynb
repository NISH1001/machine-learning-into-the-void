{
 "cells": [
  {
   "cell_type": "code",
   "execution_count": 1,
   "metadata": {},
   "outputs": [],
   "source": [
    "import matplotlib.pyplot as plt\n",
    "import nltk\n",
    "import numpy as np\n",
    "\n",
    "from nltk import FreqDist\n",
    "from collections import Counter\n",
    "\n",
    "%matplotlib inline"
   ]
  },
  {
   "cell_type": "markdown",
   "metadata": {},
   "source": [
    "# Tokenization\n",
    "\n",
    "It is a process of extracting tokens from the given text/document. Normally, we humans separate out the words in the text by looking if there are spaces around. But there are times when this simple scheme won't work because we know we can separate something like **\"i'm\"** into **\"i\"** and **\"am\"**. So, the whole idea of tokenization is to do such stuff.  \n",
    "\n",
    "Some of the tokenization scheme might be:\n",
    "- word tokenization\n",
    "- sentence tokenization\n",
    "- numeric tokenization (where we extract only numbers)\n",
    "- datetime tokenization (where we extract only date and time)"
   ]
  },
  {
   "cell_type": "code",
   "execution_count": 2,
   "metadata": {},
   "outputs": [],
   "source": [
    "text = \"Hello I am paradox. I exist; therefore i may not. Existence is merely a thought process, right?\""
   ]
  },
  {
   "cell_type": "code",
   "execution_count": 3,
   "metadata": {},
   "outputs": [
    {
     "name": "stdout",
     "output_type": "stream",
     "text": [
      "['Hello', 'I', 'am', 'paradox.', 'I', 'exist;', 'therefore', 'i', 'may', 'not.', 'Existence', 'is', 'merely', 'a', 'thought', 'process,', 'right?']\n"
     ]
    }
   ],
   "source": [
    "# simple tokenization\n",
    "words = text.split()\n",
    "print(words)\n",
    "frequency_map = Counter(words)\n",
    "\n",
    "# for scatter plot\n",
    "indices_max = 20 # max number of points to plot\n",
    "Y = list(frequency_map.values())[:indices_max]\n",
    "X = list(range(len(Y)))\n",
    "words_plot = list(frequency_map.keys())[:indices_max]"
   ]
  },
  {
   "cell_type": "code",
   "execution_count": 4,
   "metadata": {},
   "outputs": [
    {
     "data": {
      "text/plain": [
       "<matplotlib.collections.PathCollection at 0x7f4427e0ba20>"
      ]
     },
     "execution_count": 4,
     "metadata": {},
     "output_type": "execute_result"
    },
    {
     "data": {
      "image/png": "[encoded data removed]",
      "text/plain": [
       "<matplotlib.figure.Figure at 0x7f442f9655c0>"
      ]
     },
     "metadata": {},
     "output_type": "display_data"
    }
   ],
   "source": [
    "plt.scatter(X, Y)"
   ]
  },
  {
   "cell_type": "code",
   "execution_count": 5,
   "metadata": {},
   "outputs": [
    {
     "data": {
      "image/png": "[encoded data removed]",
      "text/plain": [
       "<matplotlib.figure.Figure at 0x7f442f93a3c8>"
      ]
     },
     "metadata": {},
     "output_type": "display_data"
    }
   ],
   "source": [
    "# scatter plot with labelled point\n",
    "fig, ax = plt.subplots()\n",
    "ax.scatter(X, Y)\n",
    "\n",
    "for i, txt in enumerate(words_plot):\n",
    "    ax.annotate(txt, (X[i],Y[i]))"
   ]
  },
  {
   "cell_type": "code",
   "execution_count": 6,
   "metadata": {},
   "outputs": [
    {
     "name": "stdout",
     "output_type": "stream",
     "text": [
      "['Hello', 'I', 'am', 'paradox', '.', 'I', 'exist', ';', 'therefore', 'i', 'may', 'not', '.', 'Existence', 'is', 'merely', 'a', 'thought', 'process', ',', 'right', '?', 'i', 'am']\n",
      "2\n"
     ]
    },
    {
     "data": {
      "image/png": "[encoded data removed]",
      "text/plain": [
       "<matplotlib.figure.Figure at 0x7f442f98f128>"
      ]
     },
     "metadata": {},
     "output_type": "display_data"
    }
   ],
   "source": [
    "# nltk tokenizer and frequency map\n",
    "text = \"Hello I am   paradox. I exist; therefore i may not. Existence is merely a thought process, right?\\ni am\"\n",
    "tokens = nltk.word_tokenize(text)\n",
    "print(tokens)\n",
    "freq = FreqDist(tokens)\n",
    "print(freq['i'])\n",
    "freq.plot(20, cumulative=False)"
   ]
  },
  {
   "cell_type": "markdown",
   "metadata": {},
   "source": [
    "### Sentence Tokenization\n",
    "This is a whole another domain(problem). A sentence has many forms and using simple splitting techniques don't do well for a large corpus. So, the task of extracting sentences from a given text/paragraph is a whole another problem. Latest setence tokenization involves various machine learning techniques like **Conditional Random Fields**, **RNN** models, etc."
   ]
  },
  {
   "cell_type": "code",
   "execution_count": 7,
   "metadata": {},
   "outputs": [
    {
     "name": "stdout",
     "output_type": "stream",
     "text": [
      "['Hello I am   paradox', ' I exist; therefore i may not', ' Existence is merely a thought process, right', 'i am']\n"
     ]
    }
   ],
   "source": [
    "# custom sentence tokenization\n",
    "import re\n",
    "sentences = re.split(r'[.?/\\n]+', text)\n",
    "print(sentences)"
   ]
  },
  {
   "cell_type": "code",
   "execution_count": 8,
   "metadata": {},
   "outputs": [
    {
     "name": "stdout",
     "output_type": "stream",
     "text": [
      "['Hello I am   paradox.', 'I exist; therefore i may not.', 'Existence is merely a thought process, right?', 'i am']\n"
     ]
    }
   ],
   "source": [
    "# nltk sentence level tokenization\n",
    "sentences = nltk.sent_tokenize(text)\n",
    "print(sentences)"
   ]
  },
  {
   "cell_type": "markdown",
   "metadata": {},
   "source": [
    "## Part of speech\n",
    "Part of Speech, generally referred as **POS**, are words/tokens that have similar grammatical properties. Some POS tags/tokens are:\n",
    "- noun\n",
    "- verb\n",
    "- adjective\n",
    "- pronoun\n",
    "- adverb\n",
    "- ...\n",
    "- ...\n",
    "\n",
    "Every sentence/text can be tagged its own POS tokens since each of such tokens imply certain actions/behaviour of the sentence. So, this processing is called **POS Tagging**."
   ]
  },
  {
   "cell_type": "code",
   "execution_count": 9,
   "metadata": {},
   "outputs": [
    {
     "name": "stdout",
     "output_type": "stream",
     "text": [
      "[('My', 'PRP$'), ('name', 'NN'), ('is', 'VBZ'), ('Paradox', 'NNP')]\n"
     ]
    }
   ],
   "source": [
    "# nltk pos tagging\n",
    "text = \"My name is Paradox\"\n",
    "tokens = nltk.word_tokenize(text)\n",
    "tagged_tokens = nltk.pos_tag(tokens)\n",
    "print(tagged_tokens)"
   ]
  },
  {
   "cell_type": "code",
   "execution_count": 10,
   "metadata": {},
   "outputs": [
    {
     "name": "stdout",
     "output_type": "stream",
     "text": [
      "PRP: pronoun, personal\n",
      "    hers herself him himself hisself it itself me myself one oneself ours\n",
      "    ourselves ownself self she thee theirs them themselves they thou thy us\n",
      "NN: noun, common, singular or mass\n",
      "    common-carrier cabbage knuckle-duster Casino afghan shed thermostat\n",
      "    investment slide humour falloff slick wind hyena override subhumanity\n",
      "    machinist ...\n",
      "VBZ: verb, present tense, 3rd person singular\n",
      "    bases reconstructs marks mixes displeases seals carps weaves snatches\n",
      "    slumps stretches authorizes smolders pictures emerges stockpiles\n",
      "    seduces fizzes uses bolsters slaps speaks pleads ...\n",
      "NNP: noun, proper, singular\n",
      "    Motown Venneboerger Czestochwa Ranzer Conchita Trumplane Christos\n",
      "    Oceanside Escobar Kreisler Sawyer Cougar Yvette Ervin ODI Darryl CTCA\n",
      "    Shannon A.K.C. Meltex Liverpool ...\n"
     ]
    }
   ],
   "source": [
    "nltk.help.upenn_tagset('PRP')\n",
    "nltk.help.upenn_tagset('NN')\n",
    "nltk.help.upenn_tagset('VBZ')\n",
    "nltk.help.upenn_tagset('NNP')"
   ]
  },
  {
   "cell_type": "markdown",
   "metadata": {},
   "source": [
    "## Stemming\n",
    "It is a technique for reducing a word to its root form.  \n",
    "\n",
    "#### Example:\n",
    "cats -> cat  \n",
    "sitting -> sit  \n",
    "exists -> exist  \n",
    "\n",
    "This technqiue uses a naive algorithm that is based on some pre-defined rules and cutting off letters from the words.\n",
    "Some raw techniques might be:  \n",
    "- if 's' is present at the end, remove it\n",
    "- if 'ing' is present at the end, remove it\n",
    "- ...\n",
    "- ..."
   ]
  },
  {
   "cell_type": "code",
   "execution_count": 11,
   "metadata": {},
   "outputs": [],
   "source": [
    "from nltk.stem.porter import PorterStemmer"
   ]
  },
  {
   "cell_type": "code",
   "execution_count": 12,
   "metadata": {},
   "outputs": [
    {
     "name": "stdout",
     "output_type": "stream",
     "text": [
      "['I', 'am', 'Paradox', '.', 'Most', 'of', 'the', 'time', 'i', 'just', 'sit', 'quietly', 'here', 'and', 'there', '-', 'contemplating', 'and', 'thinking', 'about', 'existence', '.', 'i', 'tend', 'to', 'have', 'many', 'cups', 'of', 'caffeine', '.']\n",
      "['I', 'am', 'paradox', '.', 'most', 'of', 'the', 'time', 'i', 'just', 'sit', 'quietli', 'here', 'and', 'there', '-', 'contempl', 'and', 'think', 'about', 'exist', '.', 'i', 'tend', 'to', 'have', 'mani', 'cup', 'of', 'caffein', '.']\n"
     ]
    }
   ],
   "source": [
    "# PorterStemmer is based on Porter Stemming Algorithm\n",
    "porter_stemmer = PorterStemmer()\n",
    "text = \"I am Paradox. Most of the time i just sit quietly here and there - contemplating and thinking about existence. i tend to have many cups of caffeine.\"\n",
    "tokens = nltk.word_tokenize(text)\n",
    "print(tokens)\n",
    "stemmed = [ porter_stemmer.stem(token) for token in tokens]\n",
    "print(stemmed)"
   ]
  },
  {
   "cell_type": "code",
   "execution_count": 13,
   "metadata": {},
   "outputs": [
    {
     "name": "stdout",
     "output_type": "stream",
     "text": [
      "['i', 'am', 'paradox', '.', 'most', 'of', 'the', 'tim', 'i', 'just', 'sit', 'quiet', 'her', 'and', 'ther', '-', 'contempl', 'and', 'think', 'about', 'ex', '.', 'i', 'tend', 'to', 'hav', 'many', 'cup', 'of', 'caffein', '.']\n"
     ]
    }
   ],
   "source": [
    "from nltk.stem.lancaster import LancasterStemmer\n",
    "\n",
    "# it is based on Lancaster Stemming Algorithm\n",
    "lancaster_stemmer = LancasterStemmer()\n",
    "stemmed_lanc = list(map(lancaster_stemmer.stem, tokens))\n",
    "print(stemmed_lanc)"
   ]
  },
  {
   "cell_type": "markdown",
   "metadata": {},
   "source": [
    "## Lemmatization\n",
    "It is the process of converting the words to their morphological root (known as lemma). It normalizes the given word morpholigically.\n",
    "#### Example:  \n",
    "am, are, is -> be  \n",
    "car, cars, car's, cars' -> car "
   ]
  },
  {
   "cell_type": "code",
   "execution_count": 14,
   "metadata": {},
   "outputs": [],
   "source": [
    "from nltk.stem import WordNetLemmatizer"
   ]
  },
  {
   "cell_type": "code",
   "execution_count": 15,
   "metadata": {},
   "outputs": [
    {
     "name": "stdout",
     "output_type": "stream",
     "text": [
      "['I', 'be', 'Paradox', '.', 'Most', 'of', 'the', 'time', 'i', 'just', 'sit', 'quietly', 'here', 'and', 'there', '-', 'contemplate', 'and', 'think', 'about', 'existence', '.', 'i', 'tend', 'to', 'have', 'many', 'cup', 'of', 'caffeine', '.']\n"
     ]
    }
   ],
   "source": [
    "text = \"I am Paradox. Most of the time i just sit quietly here and there - contemplating and thinking about existence. i tend to have many cups of caffeine.\"\n",
    "tokens = nltk.word_tokenize(text)\n",
    "wordnet_lemmatizer = WordNetLemmatizer()\n",
    "lemmas = [ wordnet_lemmatizer.lemmatize(token, pos='v') for token in tokens ]\n",
    "print(lemmas)"
   ]
  },
  {
   "cell_type": "markdown",
   "metadata": {},
   "source": [
    "### Note\n",
    "Stemming and Lemmatization are not the same thing. "
   ]
  },
  {
   "cell_type": "code",
   "execution_count": 16,
   "metadata": {},
   "outputs": [
    {
     "name": "stdout",
     "output_type": "stream",
     "text": [
      "['oper', 'oper', 'oper', 'abandon', 'is', 'are']\n",
      "['operation', 'operate', 'operational', 'abandonment', 'be', 'be']\n"
     ]
    }
   ],
   "source": [
    "words = ['operation', 'operating', 'operational', 'abandonment', 'is', 'are']\n",
    "stems = list(map(porter_stemmer.stem, words))\n",
    "lemmas = [ wordnet_lemmatizer.lemmatize(word, pos='v') for word in words ]\n",
    "print(stems)\n",
    "print(lemmas)"
   ]
  }
 ],
 "metadata": {
  "kernelspec": {
   "display_name": "Python 3",
   "language": "python",
   "name": "python3"
  },
  "language_info": {
   "codemirror_mode": {
    "name": "ipython",
    "version": 3
   },
   "file_extension": ".py",
   "mimetype": "text/x-python",
   "name": "python",
   "nbconvert_exporter": "python",
   "pygments_lexer": "ipython3",
   "version": "3.6.7"
  }
 },
 "nbformat": 4,
 "nbformat_minor": 2
}
