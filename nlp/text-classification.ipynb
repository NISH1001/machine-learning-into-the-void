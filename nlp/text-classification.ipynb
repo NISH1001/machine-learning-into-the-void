{
 "cells": [
  {
   "cell_type": "code",
   "execution_count": 1,
   "metadata": {},
   "outputs": [],
   "source": [
    "import matplotlib.pyplot as plt\n",
    "import nltk\n",
    "import numpy as np\n",
    "import pandas as pd\n",
    "\n",
    "%matplotlib inline"
   ]
  },
  {
   "cell_type": "code",
   "execution_count": 53,
   "metadata": {},
   "outputs": [],
   "source": [
    "from sklearn.feature_extraction.text import CountVectorizer\n",
    "from sklearn.metrics import roc_auc_score, roc_curve\n",
    "from sklearn.model_selection import train_test_split\n",
    "from sklearn.naive_bayes import MultinomialNB"
   ]
  },
  {
   "cell_type": "markdown",
   "metadata": {},
   "source": [
    "# Naive Bayes Classifier\n",
    "It is one of the simplest machine learning model for text classification. It uses the probabilisti distribution of tokens/words (counts) to classify documents. It is based on infamous **Bayes Theorem** which goes like this:\n",
    "\n",
    "`Prob(B | A) = Prob(A | B) * Prob(B) / Prob(A)`\n",
    "\n",
    "Fair enough, right?\n",
    "\n",
    "## Text Classification\n",
    "Say we have Document **D** that belongs to class **C**. So, using bayes theorem we can infer:  \n",
    "\n",
    "`Prob(C | D) = Prob(D | C) * Prob(C) / Prob(D)`\n",
    "\n",
    "So far so good.  \n",
    "\n",
    "We know a document is made up of tokens (combination of tokens, commonly referred to as **ngram language model**):  \n",
    "`D = [d1, d2, d3, ...]`\n",
    "\n",
    "```bash\n",
    "Prob(C | D)\n",
    "= Prob(d1 | C) * Prob(d2 | C) * Prob(d3 | C) .... * Prob(C) / Prob(D)\n",
    "```\n",
    "\n",
    "Remember, we have seggregated Prob(D | C) to individual probabilities of individual tokens (ngrams) constituting\n",
    "document D. This is why Naive Bayes classifier is **Naive** - it assumes  each tokens are independent of each other.  \n",
    "  \n",
    "Think it of as two independent events **A** and **B**. So, what's the probability of both events occuring simultaneously?  \n",
    "`Prob(A, B) = Prob(A) * Prob(B)`\n",
    "\n",
    "Now we can infer the Probabities Prob(di | C) as :  \n",
    "` (count(di) that belongs to class C) / (total number of tokens)`\n",
    "\n",
    "### Putting Things Into Perspective\n",
    "And that is how we can find the probability of document **D** beloning to class **C** assuming independence \n",
    "of individual features(ngrams). \n",
    "\n",
    "Now, say we have classes:  \n",
    "C1, C2, C3, ...  \n",
    "\n",
    "\n",
    "And we want to classify a test document **D**. All we have to do is find the probabilty of this document **D**\n",
    "beloning to each of the classes. And we choose the class where **Prob(D | C)** is the highest.\n",
    "\n",
    "#### Training Steps (somewhat)\n",
    "It's nothing but counting the \"stuff\" that matter.\n",
    "- tokenize the documents for each classes\n",
    "- each token can be unigram, bigram, ...\n",
    "- extract features for each token -> counts or tf-idf\n",
    "\n",
    "#### Let's classify\n",
    "- extract features (count) for the document to be classified\n",
    "- calculate **Prob(C1 | D)**\n",
    "- Calculate **Prob(C2 | D)**\n",
    "- Calculate **Prob(C3 | D)**\n",
    "- choose the Class **Ci** that has max probability\n",
    "\n",
    "**Side note**:  \n",
    "Since **Prob(D)** is constant, we can ignore the denominator part and just focus on the numerator's products.  \n",
    "\n",
    "So, all we are doing is:  \n",
    "\n",
    "Choose class **Ci** according to argmax{ Prob(Ci | D) }"
   ]
  },
  {
   "cell_type": "code",
   "execution_count": 3,
   "metadata": {},
   "outputs": [],
   "source": [
    "# noob documents for training :P\n",
    "spam = [\n",
    "    \"you have won a lottery\",\n",
    "    \"congratulations! you have a bonus\",\n",
    "    \"this is bomb\",\n",
    "    \"to use the credit, please click the link\",\n",
    "    \"thank you for subscription. please click the link\",\n",
    "    \"bomb\"\n",
    "]\n",
    "Y_spam = [1 for i in range(len(spam)) ]\n",
    "\n",
    "non_spam = [\n",
    "    \"i am awesome\",\n",
    "    \"i have a meeting tomorrow\",\n",
    "    \"you are smart\",\n",
    "    \"get me out of here\",\n",
    "    \"call me later\"\n",
    "]\n",
    "Y_non_spam = [0 for i in range(len(non_spam)) ]"
   ]
  },
  {
   "cell_type": "code",
   "execution_count": 4,
   "metadata": {},
   "outputs": [],
   "source": [
    "# feature extraction\n",
    "count_vectorizer = CountVectorizer(ngram_range=(1, 2)).fit(spam + non_spam)\n",
    "X_train_vectorized = count_vectorizer.transform(spam + non_spam)"
   ]
  },
  {
   "cell_type": "code",
   "execution_count": 5,
   "metadata": {},
   "outputs": [
    {
     "data": {
      "text/plain": [
       "MultinomialNB(alpha=0.1, class_prior=None, fit_prior=True)"
      ]
     },
     "execution_count": 5,
     "metadata": {},
     "output_type": "execute_result"
    }
   ],
   "source": [
    "# Naive Bayes Model\n",
    "model = MultinomialNB(alpha=0.1)\n",
    "model.fit(X_train_vectorized, Y_spam + Y_non_spam)"
   ]
  },
  {
   "cell_type": "code",
   "execution_count": 6,
   "metadata": {},
   "outputs": [
    {
     "name": "stdout",
     "output_type": "stream",
     "text": [
      "[0 1]\n"
     ]
    }
   ],
   "source": [
    "documents = [\n",
    "    \"call you\",\n",
    "    \"you have won\"\n",
    "]\n",
    "predictions = model.predict(count_vectorizer.transform(documents))\n",
    "print(predictions)"
   ]
  },
  {
   "cell_type": "code",
   "execution_count": 9,
   "metadata": {},
   "outputs": [
    {
     "name": "stdout",
     "output_type": "stream",
     "text": [
      "[0 1]\n"
     ]
    }
   ],
   "source": [
    "# convert to pandas dataframe for seamless training\n",
    "spam_df = pd.DataFrame(spam, columns=['text'])\n",
    "spam_df['target'] = 1\n",
    "non_spam_df = pd.DataFrame(non_spam, columns=['text'])\n",
    "non_spam_df['target'] = 0\n",
    "\n",
    "# final data\n",
    "data = pd.concat([spam_df, non_spam_df], ignore_index=True)\n",
    "data\n",
    "\n",
    "# feature extraction\n",
    "count_vectorizer = CountVectorizer(ngram_range=(1, 2)).fit(data['text'])\n",
    "X_train_vectorized = count_vectorizer.transform(data['text'])\n",
    "model = MultinomialNB(alpha=0.1)\n",
    "model.fit(X_train_vectorized, Y_spam + Y_non_spam)\n",
    "documents = [\n",
    "    \"call you\",\n",
    "    \"you have won\"\n",
    "]\n",
    "predictions = model.predict(count_vectorizer.transform(documents))\n",
    "print(predictions)"
   ]
  },
  {
   "cell_type": "markdown",
   "metadata": {},
   "source": [
    "### Let's do real training"
   ]
  },
  {
   "cell_type": "code",
   "execution_count": 18,
   "metadata": {},
   "outputs": [
    {
     "name": "stdout",
     "output_type": "stream",
     "text": [
      "5572\n"
     ]
    },
    {
     "data": {
      "text/html": [
       "<div>\n",
       "<style scoped>\n",
       "    .dataframe tbody tr th:only-of-type {\n",
       "        vertical-align: middle;\n",
       "    }\n",
       "\n",
       "    .dataframe tbody tr th {\n",
       "        vertical-align: top;\n",
       "    }\n",
       "\n",
       "    .dataframe thead th {\n",
       "        text-align: right;\n",
       "    }\n",
       "</style>\n",
       "<table border=\"1\" class=\"dataframe\">\n",
       "  <thead>\n",
       "    <tr style=\"text-align: right;\">\n",
       "      <th></th>\n",
       "      <th>text</th>\n",
       "      <th>target</th>\n",
       "    </tr>\n",
       "  </thead>\n",
       "  <tbody>\n",
       "    <tr>\n",
       "      <th>0</th>\n",
       "      <td>Go until jurong point, crazy.. Available only ...</td>\n",
       "      <td>0</td>\n",
       "    </tr>\n",
       "    <tr>\n",
       "      <th>1</th>\n",
       "      <td>Ok lar... Joking wif u oni...</td>\n",
       "      <td>0</td>\n",
       "    </tr>\n",
       "    <tr>\n",
       "      <th>2</th>\n",
       "      <td>Free entry in 2 a wkly comp to win FA Cup fina...</td>\n",
       "      <td>1</td>\n",
       "    </tr>\n",
       "    <tr>\n",
       "      <th>3</th>\n",
       "      <td>U dun say so early hor... U c already then say...</td>\n",
       "      <td>0</td>\n",
       "    </tr>\n",
       "    <tr>\n",
       "      <th>4</th>\n",
       "      <td>Nah I don't think he goes to usf, he lives aro...</td>\n",
       "      <td>0</td>\n",
       "    </tr>\n",
       "    <tr>\n",
       "      <th>5</th>\n",
       "      <td>FreeMsg Hey there darling it's been 3 week's n...</td>\n",
       "      <td>1</td>\n",
       "    </tr>\n",
       "    <tr>\n",
       "      <th>6</th>\n",
       "      <td>Even my brother is not like to speak with me. ...</td>\n",
       "      <td>0</td>\n",
       "    </tr>\n",
       "    <tr>\n",
       "      <th>7</th>\n",
       "      <td>As per your request 'Melle Melle (Oru Minnamin...</td>\n",
       "      <td>0</td>\n",
       "    </tr>\n",
       "    <tr>\n",
       "      <th>8</th>\n",
       "      <td>WINNER!! As a valued network customer you have...</td>\n",
       "      <td>1</td>\n",
       "    </tr>\n",
       "    <tr>\n",
       "      <th>9</th>\n",
       "      <td>Had your mobile 11 months or more? U R entitle...</td>\n",
       "      <td>1</td>\n",
       "    </tr>\n",
       "  </tbody>\n",
       "</table>\n",
       "</div>"
      ],
      "text/plain": [
       "                                                text  target\n",
       "0  Go until jurong point, crazy.. Available only ...       0\n",
       "1                      Ok lar... Joking wif u oni...       0\n",
       "2  Free entry in 2 a wkly comp to win FA Cup fina...       1\n",
       "3  U dun say so early hor... U c already then say...       0\n",
       "4  Nah I don't think he goes to usf, he lives aro...       0\n",
       "5  FreeMsg Hey there darling it's been 3 week's n...       1\n",
       "6  Even my brother is not like to speak with me. ...       0\n",
       "7  As per your request 'Melle Melle (Oru Minnamin...       0\n",
       "8  WINNER!! As a valued network customer you have...       1\n",
       "9  Had your mobile 11 months or more? U R entitle...       1"
      ]
     },
     "execution_count": 18,
     "metadata": {},
     "output_type": "execute_result"
    }
   ],
   "source": [
    "# load training set\n",
    "data = pd.read_csv('data/spam.csv')\n",
    "\n",
    "data['target'] = np.where(data['target']=='spam',1, 0)\n",
    "print(len(data))\n",
    "data.head(10)"
   ]
  },
  {
   "cell_type": "code",
   "execution_count": 27,
   "metadata": {},
   "outputs": [
    {
     "data": {
      "text/plain": [
       "((4179,), (1393,))"
      ]
     },
     "execution_count": 27,
     "metadata": {},
     "output_type": "execute_result"
    }
   ],
   "source": [
    "X_train, X_test, Y_train, Y_test = train_test_split(spam_data['text'], \n",
    "                                                    spam_data['target'], \n",
    "                                                    random_state=0)\n",
    "X_train.shape, X_test.shape"
   ]
  },
  {
   "cell_type": "code",
   "execution_count": 24,
   "metadata": {},
   "outputs": [
    {
     "data": {
      "text/plain": [
       "(4179, 40704)"
      ]
     },
     "execution_count": 24,
     "metadata": {},
     "output_type": "execute_result"
    }
   ],
   "source": [
    "# extract features\n",
    "vectorizer = CountVectorizer(ngram_range=(1, 2)).fit(X_train)\n",
    "X_train_vectorized = vectorizer.transform(X_train)\n",
    "X_train_vectorized.toarray().shape"
   ]
  },
  {
   "cell_type": "code",
   "execution_count": 42,
   "metadata": {},
   "outputs": [
    {
     "data": {
      "text/plain": [
       "MultinomialNB(alpha=0.1, class_prior=None, fit_prior=True)"
      ]
     },
     "execution_count": 42,
     "metadata": {},
     "output_type": "execute_result"
    }
   ],
   "source": [
    "# create Naive Bayes model\n",
    "model = MultinomialNB(alpha=0.1)\n",
    "model.fit(X_train_vectorized, Y_train)"
   ]
  },
  {
   "cell_type": "code",
   "execution_count": 46,
   "metadata": {},
   "outputs": [
    {
     "data": {
      "text/plain": [
       "0.9708270376721049"
      ]
     },
     "execution_count": 46,
     "metadata": {},
     "output_type": "execute_result"
    }
   ],
   "source": [
    "# Calculate True Positive Rate vs False Positive Rate\n",
    "predictions = model.predict(vectorizer.transform(X_test))\n",
    "score = roc_auc_score(Y_test, predictions)\n",
    "score"
   ]
  },
  {
   "cell_type": "code",
   "execution_count": 67,
   "metadata": {},
   "outputs": [
    {
     "name": "stdout",
     "output_type": "stream",
     "text": [
      "Confusion Matrix:\n",
      "[[1193.    3.]\n",
      " [  11.  186.]]\n",
      "Recall for Spam:\n",
      "0.970827037672105\n",
      "Precision for Spam:\n",
      "0.9874953857511997\n"
     ]
    },
    {
     "data": {
      "image/png": "[encoded data removed]",
      "text/plain": [
       "<matplotlib.figure.Figure at 0x7f80dfec9898>"
      ]
     },
     "metadata": {},
     "output_type": "display_data"
    }
   ],
   "source": [
    "# create custom confusion matrix for evaluation\n",
    "result = {}\n",
    "cm = np.zeros((2, 2))\n",
    "precisions = np.zeros(2)\n",
    "recalls = np.zeros(2)\n",
    "for t, p in zip(Y_test, predictions):\n",
    "    cm[t][p] += 1\n",
    "\n",
    "tp = np.diag(cm)\n",
    "fn = np.sum(cm, axis=1) - tp\n",
    "fp = np.sum(cm, axis=0) - tp\n",
    "\n",
    "for i in range(2):\n",
    "    p_denom = tp[i] + fp[i]\n",
    "    r_denom = tp[i] + fn[i]\n",
    "    precisions[i] = 0 if p_denom == 0 else tp[i]/p_denom\n",
    "    recalls[i] = 0 if r_denom == 0 else tp[i]/r_denom\n",
    "    \n",
    "# calculate from sklearn\n",
    "fpr_, tpr_, _ = roc_curve(Y_test,  predictions)\n",
    "#tpr = cm[1][1] / (cm[1][1] + cm[1][0])\n",
    "tpr = recalls[1]\n",
    "fpr = cm[0][1] / (cm[0][1] + cm[0][0])\n",
    "\n",
    "precision = np.average(precisions)\n",
    "recall = np.average(recalls)\n",
    "f1 = 2 * precision * recall / (precision + recall)\n",
    "\n",
    "print(\"Confusion Matrix:\\n{}\".format(cm))\n",
    "print(\"Recall for Spam:\\n{}\".format(recall))\n",
    "print(\"Precision for Spam:\\n{}\".format(precision))\n",
    "\n",
    "plt.plot(fpr_, tpr_, label=\"spam, auc=\"+str(score))\n",
    "plt.legend(loc=4)\n",
    "plt.show()"
   ]
  },
  {
   "cell_type": "code",
   "execution_count": 45,
   "metadata": {},
   "outputs": [
    {
     "data": {
      "text/plain": [
       "array([1, 1, 0])"
      ]
     },
     "execution_count": 45,
     "metadata": {},
     "output_type": "execute_result"
    }
   ],
   "source": [
    "test_docs = [\n",
    "    \"you have won a lottery\",\n",
    "    \"click the link\",\n",
    "    \"i have a meeting\"\n",
    "]\n",
    "predictions = model.predict(vectorizer.transform(test_docs))\n",
    "predictions"
   ]
  },
  {
   "cell_type": "code",
   "execution_count": null,
   "metadata": {},
   "outputs": [],
   "source": []
  }
 ],
 "metadata": {
  "kernelspec": {
   "display_name": "Python 3",
   "language": "python",
   "name": "python3"
  },
  "language_info": {
   "codemirror_mode": {
    "name": "ipython",
    "version": 3
   },
   "file_extension": ".py",
   "mimetype": "text/x-python",
   "name": "python",
   "nbconvert_exporter": "python",
   "pygments_lexer": "ipython3",
   "version": "3.6.4"
  }
 },
 "nbformat": 4,
 "nbformat_minor": 2
}
