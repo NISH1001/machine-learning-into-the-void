{
 "cells": [
  {
   "cell_type": "code",
   "execution_count": 60,
   "metadata": {},
   "outputs": [],
   "source": [
    "from nltk.corpus import stopwords\n",
    "from nltk.stem.wordnet import WordNetLemmatizer\n",
    "import gensim\n",
    "from gensim import corpora\n",
    "from gensim.models import CoherenceModel\n",
    "import string\n",
    "import pprint\n",
    "\n",
    "# Plotting tools\n",
    "import pyLDAvis\n",
    "import pyLDAvis.gensim  # don't skip this\n",
    "import matplotlib.pyplot as plt\n",
    "%matplotlib inline"
   ]
  },
  {
   "cell_type": "code",
   "execution_count": 8,
   "metadata": {},
   "outputs": [
    {
     "data": {
      "text/plain": [
       "['Sugar is bad to consume. My sister likes to have sugar, but not my father.',\n",
       " 'My father spends a lot of time driving my sister around to dance practice.',\n",
       " 'Doctors suggest that driving may cause increased stress and blood pressure.',\n",
       " 'Sometimes I feel pressure to perform well at school, but my father never seems to drive my sister to do better.',\n",
       " 'Health experts say that Sugar is not good for your lifestyle.']"
      ]
     },
     "execution_count": 8,
     "metadata": {},
     "output_type": "execute_result"
    }
   ],
   "source": [
    "doc1 = \"Sugar is bad to consume. My sister likes to have sugar, but not my father.\"\n",
    "doc2 = \"My father spends a lot of time driving my sister around to dance practice.\"\n",
    "doc3 = \"Doctors suggest that driving may cause increased stress and blood pressure.\"\n",
    "doc4 = \"Sometimes I feel pressure to perform well at school, but my father never seems to drive my sister to do better.\"\n",
    "doc5 = \"Health experts say that Sugar is not good for your lifestyle.\"\n",
    "\n",
    "# compile documents\n",
    "doc_complete = [doc1, doc2, doc3, doc4, doc5]\n",
    "doc_complete"
   ]
  },
  {
   "cell_type": "code",
   "execution_count": 4,
   "metadata": {},
   "outputs": [],
   "source": [
    "def clean(doc):\n",
    "    stop_free = \" \".join([i for i in doc.lower().split() if i not in stop])\n",
    "    punc_free = ''.join(ch for ch in stop_free if ch not in exclude)\n",
    "    normalized = \" \".join(lemma.lemmatize(word) for word in punc_free.split())\n",
    "    return normalized"
   ]
  },
  {
   "cell_type": "code",
   "execution_count": 7,
   "metadata": {},
   "outputs": [
    {
     "data": {
      "text/plain": [
       "[['sugar', 'bad', 'consume', 'sister', 'like', 'sugar', 'father'],\n",
       " ['father',\n",
       "  'spends',\n",
       "  'lot',\n",
       "  'time',\n",
       "  'driving',\n",
       "  'sister',\n",
       "  'around',\n",
       "  'dance',\n",
       "  'practice'],\n",
       " ['doctor',\n",
       "  'suggest',\n",
       "  'driving',\n",
       "  'may',\n",
       "  'cause',\n",
       "  'increased',\n",
       "  'stress',\n",
       "  'blood',\n",
       "  'pressure'],\n",
       " ['sometimes',\n",
       "  'feel',\n",
       "  'pressure',\n",
       "  'perform',\n",
       "  'well',\n",
       "  'school',\n",
       "  'father',\n",
       "  'never',\n",
       "  'seems',\n",
       "  'drive',\n",
       "  'sister',\n",
       "  'better'],\n",
       " ['health', 'expert', 'say', 'sugar', 'good', 'lifestyle']]"
      ]
     },
     "execution_count": 7,
     "metadata": {},
     "output_type": "execute_result"
    }
   ],
   "source": [
    "stop = set(stopwords.words('english'))\n",
    "exclude = set(string.punctuation)\n",
    "lemma = WordNetLemmatizer()\n",
    "\n",
    "doc_clean = [clean(doc).split() for doc in doc_complete]\n",
    "doc_clean"
   ]
  },
  {
   "cell_type": "markdown",
   "metadata": {},
   "source": [
    "## Create Document-Term Matrix\n",
    "It is a matrix representing bag of words model. Each document is composed of many terms. So, frequency of those terms/words is represented in this matrix.  \n",
    "```python\n",
    "   W1  W2  W3 ...\n",
    "D1 1   99  \n",
    "D2\n",
    "D3\n",
    "```"
   ]
  },
  {
   "cell_type": "code",
   "execution_count": 37,
   "metadata": {},
   "outputs": [
    {
     "data": {
      "text/plain": [
       "[[(0, 1), (1, 1), (2, 1), (3, 1), (4, 1), (5, 2)],\n",
       " [(2, 1), (4, 1), (6, 1), (7, 1), (8, 1), (9, 1), (10, 1), (11, 1), (12, 1)],\n",
       " [(8, 1),\n",
       "  (13, 1),\n",
       "  (14, 1),\n",
       "  (15, 1),\n",
       "  (16, 1),\n",
       "  (17, 1),\n",
       "  (18, 1),\n",
       "  (19, 1),\n",
       "  (20, 1)],\n",
       " [(2, 1),\n",
       "  (4, 1),\n",
       "  (18, 1),\n",
       "  (21, 1),\n",
       "  (22, 1),\n",
       "  (23, 1),\n",
       "  (24, 1),\n",
       "  (25, 1),\n",
       "  (26, 1),\n",
       "  (27, 1),\n",
       "  (28, 1),\n",
       "  (29, 1)],\n",
       " [(5, 1), (30, 1), (31, 1), (32, 1), (33, 1), (34, 1)]]"
      ]
     },
     "execution_count": 37,
     "metadata": {},
     "output_type": "execute_result"
    }
   ],
   "source": [
    "dictionary = corpora.Dictionary(doc_clean)\n",
    "doc_term_matrix = [dictionary.doc2bow(doc) for doc in doc_clean]\n",
    "doc_term_matrix"
   ]
  },
  {
   "cell_type": "code",
   "execution_count": 42,
   "metadata": {},
   "outputs": [
    {
     "data": {
      "text/plain": [
       "[[('bad', 1),\n",
       "  ('consume', 1),\n",
       "  ('father', 1),\n",
       "  ('like', 1),\n",
       "  ('sister', 1),\n",
       "  ('sugar', 2)],\n",
       " [('father', 1),\n",
       "  ('sister', 1),\n",
       "  ('around', 1),\n",
       "  ('dance', 1),\n",
       "  ('driving', 1),\n",
       "  ('lot', 1),\n",
       "  ('practice', 1),\n",
       "  ('spends', 1),\n",
       "  ('time', 1)],\n",
       " [('driving', 1),\n",
       "  ('blood', 1),\n",
       "  ('cause', 1),\n",
       "  ('doctor', 1),\n",
       "  ('increased', 1),\n",
       "  ('may', 1),\n",
       "  ('pressure', 1),\n",
       "  ('stress', 1),\n",
       "  ('suggest', 1)],\n",
       " [('father', 1),\n",
       "  ('sister', 1),\n",
       "  ('pressure', 1),\n",
       "  ('better', 1),\n",
       "  ('drive', 1),\n",
       "  ('feel', 1),\n",
       "  ('never', 1),\n",
       "  ('perform', 1),\n",
       "  ('school', 1),\n",
       "  ('seems', 1),\n",
       "  ('sometimes', 1),\n",
       "  ('well', 1)],\n",
       " [('sugar', 1),\n",
       "  ('expert', 1),\n",
       "  ('good', 1),\n",
       "  ('health', 1),\n",
       "  ('lifestyle', 1),\n",
       "  ('say', 1)]]"
      ]
     },
     "execution_count": 42,
     "metadata": {},
     "output_type": "execute_result"
    }
   ],
   "source": [
    "# get id for each term\n",
    "[[(dictionary[id], freq) for id, freq in cp] for cp in doc_term_matrix[:5]]"
   ]
  },
  {
   "cell_type": "markdown",
   "metadata": {},
   "source": [
    "## LDA (Latent Drichlet Allocation)\n",
    "LDA uses document-term matrix to model the topic. It breaks down this matrix into 2 matrices, **M1** and **M2** where:  \n",
    "M1 = document-topic matrix  \n",
    "M2 = topic-terms matrix"
   ]
  },
  {
   "cell_type": "code",
   "execution_count": 43,
   "metadata": {},
   "outputs": [],
   "source": [
    "# Creating the object for LDA model using gensim library\n",
    "Lda = gensim.models.ldamodel.LdaModel\n",
    "\n",
    "\n",
    "lda_model = gensim.models.ldamodel.LdaModel(corpus=doc_term_matrix,\n",
    "                                           id2word=dictionary,\n",
    "                                           num_topics=3, \n",
    "                                           random_state=100,\n",
    "                                           update_every=1,\n",
    "                                           chunksize=100,\n",
    "                                           passes=10,\n",
    "                                           alpha='auto',\n",
    "                                           per_word_topics=True)"
   ]
  },
  {
   "cell_type": "code",
   "execution_count": 51,
   "metadata": {},
   "outputs": [
    {
     "name": "stdout",
     "output_type": "stream",
     "text": [
      "[(0,\n",
      "  '0.079*\"driving\" + 0.045*\"suggest\" + 0.045*\"stress\" + 0.045*\"blood\" + '\n",
      "  '0.045*\"may\" + 0.045*\"doctor\" + 0.045*\"increased\" + 0.045*\"time\" + '\n",
      "  '0.045*\"cause\" + 0.045*\"around\"'),\n",
      " (1,\n",
      "  '0.091*\"sugar\" + 0.064*\"sister\" + 0.064*\"father\" + 0.036*\"health\" + '\n",
      "  '0.036*\"bad\" + 0.036*\"consume\" + 0.036*\"expert\" + 0.036*\"lifestyle\" + '\n",
      "  '0.036*\"good\" + 0.036*\"like\"'),\n",
      " (2,\n",
      "  '0.029*\"father\" + 0.029*\"pressure\" + 0.029*\"drive\" + 0.029*\"sometimes\" + '\n",
      "  '0.029*\"school\" + 0.029*\"perform\" + 0.029*\"well\" + 0.029*\"never\" + '\n",
      "  '0.029*\"better\" + 0.029*\"sister\"')]\n"
     ]
    },
    {
     "data": {
      "text/plain": [
       "<gensim.interfaces.TransformedCorpus at 0x7f29b6e549e8>"
      ]
     },
     "execution_count": 51,
     "metadata": {},
     "output_type": "execute_result"
    }
   ],
   "source": [
    "#lda_model.print_topics(num_topics=3, num_words=5)\n",
    "pprint.pprint(lda_model.print_topics(num_topic))\n",
    "doc_lda = lda_model[doc_term_matrix]\n",
    "doc_lda"
   ]
  },
  {
   "cell_type": "code",
   "execution_count": 64,
   "metadata": {},
   "outputs": [
    {
     "name": "stdout",
     "output_type": "stream",
     "text": [
      "\n",
      "Perplexity:  -4.11920134341994\n",
      "\n",
      "Coherence Score:  0.31970581848144614\n"
     ]
    }
   ],
   "source": [
    "# Compute Perplexity\n",
    "# a measure of how good the model is. lower the better.\n",
    "print('\\nPerplexity: ', lda_model.log_perplexity(doc_term_matrix))  #\n",
    "\n",
    "# Compute Coherence Score\n",
    "coherence_model_lda = CoherenceModel(model=lda_model, texts=doc_clean, dictionary=dictionary, coherence='c_v')\n",
    "coherence_lda = coherence_model_lda.get_coherence()\n",
    "print('\\nCoherence Score: ', coherence_lda)"
   ]
  },
  {
   "cell_type": "code",
   "execution_count": 65,
   "metadata": {},
   "outputs": [
    {
     "name": "stderr",
     "output_type": "stream",
     "text": [
      "/home/paradox/anaconda3/envs/machine-learning/lib/python3.6/site-packages/pyLDAvis/_prepare.py:387: DeprecationWarning: \n",
      ".ix is deprecated. Please use\n",
      ".loc for label based indexing or\n",
      ".iloc for positional indexing\n",
      "\n",
      "See the documentation here:\n",
      "http://pandas.pydata.org/pandas-docs/stable/indexing.html#ix-indexer-is-deprecated\n",
      "  topic_term_dists = topic_term_dists.ix[topic_order]\n",
      "/home/paradox/anaconda3/envs/machine-learning/lib/python3.6/site-packages/pyLDAvis/_prepare.py:257: FutureWarning: Sorting because non-concatenation axis is not aligned. A future version\n",
      "of pandas will change to not sort by default.\n",
      "\n",
      "To accept the future behavior, pass 'sort=True'.\n",
      "\n",
      "To retain the current behavior and silence the warning, pass sort=False\n",
      "\n",
      "  return pd.concat([default_term_info] + list(topic_dfs))\n"
     ]
    },
    {
     "data": {
      "text/html": [
       "\n",
       "<link rel=\"stylesheet\" type=\"text/css\" href=\"https://cdn.rawgit.com/bmabey/pyLDAvis/files/ldavis.v1.0.0.css\">\n",
       "\n",
       "\n",
       "<div id=\"ldavis_el124191398174531730408607649203\"></div>\n",
       "<script type=\"text/javascript\">\n",
       "\n",
       "var ldavis_el124191398174531730408607649203_data = {\"mdsDat\": {\"x\": [-0.08943248814734733, 0.08940677927187977, 2.570887546760822e-05], \"y\": [0.0, 0.0, 0.0], \"topics\": [1, 2, 3], \"cluster\": [1, 1, 1], \"Freq\": [57.867286682128906, 41.68339157104492, 0.44931545853614807]}, \"tinfo\": {\"Category\": [\"Default\", \"Default\", \"Default\", \"Default\", \"Default\", \"Default\", \"Default\", \"Default\", \"Default\", \"Default\", \"Default\", \"Default\", \"Default\", \"Default\", \"Default\", \"Default\", \"Default\", \"Default\", \"Default\", \"Default\", \"Default\", \"Default\", \"Default\", \"Default\", \"Default\", \"Default\", \"Default\", \"Default\", \"Default\", \"Default\", \"Topic1\", \"Topic1\", \"Topic1\", \"Topic1\", \"Topic1\", \"Topic1\", \"Topic1\", \"Topic1\", \"Topic1\", \"Topic1\", \"Topic1\", \"Topic1\", \"Topic1\", \"Topic1\", \"Topic1\", \"Topic1\", \"Topic1\", \"Topic1\", \"Topic1\", \"Topic1\", \"Topic1\", \"Topic1\", \"Topic1\", \"Topic1\", \"Topic1\", \"Topic1\", \"Topic1\", \"Topic1\", \"Topic1\", \"Topic1\", \"Topic1\", \"Topic1\", \"Topic2\", \"Topic2\", \"Topic2\", \"Topic2\", \"Topic2\", \"Topic2\", \"Topic2\", \"Topic2\", \"Topic2\", \"Topic2\", \"Topic2\", \"Topic2\", \"Topic2\", \"Topic2\", \"Topic2\", \"Topic2\", \"Topic2\", \"Topic2\", \"Topic2\", \"Topic2\", \"Topic2\", \"Topic2\", \"Topic2\", \"Topic2\", \"Topic2\", \"Topic2\", \"Topic2\", \"Topic2\", \"Topic2\", \"Topic2\", \"Topic2\", \"Topic2\", \"Topic2\", \"Topic2\", \"Topic2\", \"Topic3\", \"Topic3\", \"Topic3\", \"Topic3\", \"Topic3\", \"Topic3\", \"Topic3\", \"Topic3\", \"Topic3\", \"Topic3\", \"Topic3\", \"Topic3\", \"Topic3\", \"Topic3\", \"Topic3\", \"Topic3\", \"Topic3\", \"Topic3\", \"Topic3\", \"Topic3\", \"Topic3\", \"Topic3\", \"Topic3\", \"Topic3\", \"Topic3\", \"Topic3\", \"Topic3\", \"Topic3\", \"Topic3\", \"Topic3\", \"Topic3\", \"Topic3\", \"Topic3\", \"Topic3\", \"Topic3\"], \"Freq\": [2.0, 1.0, 1.0, 1.0, 1.0, 1.0, 1.0, 1.0, 1.0, 1.0, 1.0, 1.0, 1.0, 1.0, 1.0, 1.0, 1.0, 1.0, 1.0, 1.0, 1.0, 1.0, 1.0, 1.0, 1.0, 1.0, 1.0, 1.0, 1.0, 1.0, 2.263871669769287, 0.9055424332618713, 0.905561089515686, 0.9055356383323669, 0.905528724193573, 0.9055160880088806, 0.905448317527771, 0.9054431319236755, 0.9054628014564514, 0.9040038585662842, 0.9038926959037781, 0.9036859273910522, 0.903542697429657, 0.9035822153091431, 0.9034857153892517, 0.9033727049827576, 0.9033571481704712, 0.9033421874046326, 1.5841718912124634, 1.5836496353149414, 0.9037927985191345, 0.2265349179506302, 0.22653457522392273, 0.22652101516723633, 0.2265186309814453, 0.2265041619539261, 0.22651463747024536, 0.2265053242444992, 0.22650572657585144, 0.22649414837360382, 0.22650516033172607, 0.22654108703136444, 1.409696102142334, 0.8056129813194275, 0.8056129813194275, 0.8056057095527649, 0.8055998086929321, 0.8055576682090759, 0.8055818676948547, 0.8055615425109863, 0.8055891394615173, 0.8055008053779602, 0.8055295348167419, 0.805508553981781, 0.8054689168930054, 0.8054543733596802, 0.8052864670753479, 0.8047586679458618, 0.8047646880149841, 0.20147863030433655, 0.20148104429244995, 0.20147407054901123, 0.20149028301239014, 0.20146891474723816, 0.20146851241588593, 0.20147322118282318, 0.20149940252304077, 0.2014799416065216, 0.2015697956085205, 0.20156165957450867, 0.20154541730880737, 0.20152397453784943, 0.20152567327022552, 0.2015092670917511, 0.2015092372894287, 0.20149384438991547, 0.20161652565002441, 0.005505813285708427, 0.005505421664565802, 0.005505292676389217, 0.005504669155925512, 0.005504152737557888, 0.0055039809085428715, 0.005503603257238865, 0.005503038875758648, 0.005502760875970125, 0.005502649582922459, 0.005502623040229082, 0.005502605810761452, 0.00550256110727787, 0.0055566332302987576, 0.00555620389059186, 0.005556017626076937, 0.005553411785513163, 0.005552039947360754, 0.005550486035645008, 0.005548432469367981, 0.005542694125324488, 0.005540524609386921, 0.005503647029399872, 0.005503328982740641, 0.005502769723534584, 0.005502629559487104, 0.0055025843903422356, 0.005502513609826565, 0.005502232816070318, 0.005501896142959595, 0.005559428129345179, 0.005559741985052824, 0.005546883679926395, 0.00550755625590682, 0.0055048419162631035], \"Term\": [\"sugar\", \"driving\", \"drive\", \"sometimes\", \"school\", \"perform\", \"well\", \"never\", \"better\", \"seems\", \"feel\", \"like\", \"say\", \"bad\", \"consume\", \"lifestyle\", \"good\", \"expert\", \"health\", \"practice\", \"spends\", \"lot\", \"dance\", \"around\", \"cause\", \"time\", \"increased\", \"blood\", \"stress\", \"suggest\", \"sugar\", \"bad\", \"health\", \"consume\", \"expert\", \"lifestyle\", \"like\", \"say\", \"good\", \"feel\", \"seems\", \"better\", \"well\", \"never\", \"perform\", \"school\", \"sometimes\", \"drive\", \"sister\", \"father\", \"pressure\", \"practice\", \"spends\", \"dance\", \"around\", \"lot\", \"doctor\", \"time\", \"increased\", \"cause\", \"may\", \"driving\", \"driving\", \"stress\", \"suggest\", \"blood\", \"may\", \"cause\", \"increased\", \"time\", \"doctor\", \"lot\", \"around\", \"dance\", \"spends\", \"practice\", \"pressure\", \"father\", \"sister\", \"drive\", \"sometimes\", \"school\", \"never\", \"perform\", \"well\", \"better\", \"seems\", \"feel\", \"good\", \"say\", \"like\", \"lifestyle\", \"expert\", \"consume\", \"health\", \"bad\", \"sugar\", \"practice\", \"spends\", \"lot\", \"dance\", \"around\", \"cause\", \"time\", \"increased\", \"blood\", \"stress\", \"doctor\", \"suggest\", \"may\", \"drive\", \"sometimes\", \"school\", \"perform\", \"well\", \"never\", \"better\", \"seems\", \"feel\", \"like\", \"say\", \"bad\", \"good\", \"lifestyle\", \"consume\", \"expert\", \"health\", \"pressure\", \"father\", \"sister\", \"driving\", \"sugar\"], \"Total\": [2.0, 1.0, 1.0, 1.0, 1.0, 1.0, 1.0, 1.0, 1.0, 1.0, 1.0, 1.0, 1.0, 1.0, 1.0, 1.0, 1.0, 1.0, 1.0, 1.0, 1.0, 1.0, 1.0, 1.0, 1.0, 1.0, 1.0, 1.0, 1.0, 1.0, 2.4709930419921875, 1.1125390529632568, 1.112572193145752, 1.1125473976135254, 1.1125565767288208, 1.1125426292419434, 1.112497329711914, 1.1125080585479736, 1.1125351190567017, 1.111024260520935, 1.1109347343444824, 1.1107076406478882, 1.1105632781982422, 1.1106230020523071, 1.1105079650878906, 1.1104027032852173, 1.1103943586349487, 1.1103774309158325, 2.3944833278656006, 2.393967866897583, 1.7146387100219727, 1.0374951362609863, 1.0375089645385742, 1.0375343561172485, 1.0375523567199707, 1.0375102758407593, 1.0376063585281372, 1.0375704765319824, 1.0375906229019165, 1.0375558137893677, 1.0376075506210327, 1.6417447328567505, 1.6417447328567505, 1.037602424621582, 1.0376040935516357, 1.0375988483428955, 1.0376075506210327, 1.0375558137893677, 1.0375906229019165, 1.0375704765319824, 1.0376063585281372, 1.0375102758407593, 1.0375523567199707, 1.0375343561172485, 1.0375089645385742, 1.0374951362609863, 1.7146387100219727, 2.393967866897583, 2.3944833278656006, 1.1103774309158325, 1.1103943586349487, 1.1104027032852173, 1.1106230020523071, 1.1105079650878906, 1.1105632781982422, 1.1107076406478882, 1.1109347343444824, 1.111024260520935, 1.1125351190567017, 1.1125080585479736, 1.112497329711914, 1.1125426292419434, 1.1125565767288208, 1.1125473976135254, 1.112572193145752, 1.1125390529632568, 2.4709930419921875, 1.0374951362609863, 1.0375089645385742, 1.0375102758407593, 1.0375343561172485, 1.0375523567199707, 1.0375558137893677, 1.0375704765319824, 1.0375906229019165, 1.0375988483428955, 1.037602424621582, 1.0376063585281372, 1.0376040935516357, 1.0376075506210327, 1.1103774309158325, 1.1103943586349487, 1.1104027032852173, 1.1105079650878906, 1.1105632781982422, 1.1106230020523071, 1.1107076406478882, 1.1109347343444824, 1.111024260520935, 1.112497329711914, 1.1125080585479736, 1.1125390529632568, 1.1125351190567017, 1.1125426292419434, 1.1125473976135254, 1.1125565767288208, 1.112572193145752, 1.7146387100219727, 2.393967866897583, 2.3944833278656006, 1.6417447328567505, 2.4709930419921875], \"loglift\": [30.0, 29.0, 28.0, 27.0, 26.0, 25.0, 24.0, 23.0, 22.0, 21.0, 20.0, 19.0, 18.0, 17.0, 16.0, 15.0, 14.0, 13.0, 12.0, 11.0, 10.0, 9.0, 8.0, 7.0, 6.0, 5.0, 4.0, 3.0, 2.0, 1.0, 0.4595000147819519, 0.34119999408721924, 0.3411000072956085, 0.3411000072956085, 0.3411000072956085, 0.3411000072956085, 0.3411000072956085, 0.3411000072956085, 0.3411000072956085, 0.3407999873161316, 0.3407999873161316, 0.3407000005245209, 0.3407000005245209, 0.3407000005245209, 0.3407000005245209, 0.3407000005245209, 0.3407000005245209, 0.3407000005245209, 0.1339000016450882, 0.13379999995231628, -0.093299999833107, -0.9746000170707703, -0.9746999740600586, -0.9746999740600586, -0.9747999906539917, -0.9747999906539917, -0.9747999906539917, -0.9749000072479248, -0.9749000072479248, -0.9749000072479248, -0.9749000072479248, -1.4335999488830566, 0.7226999998092651, 0.621999979019165, 0.621999979019165, 0.621999979019165, 0.621999979019165, 0.621999979019165, 0.621999979019165, 0.621999979019165, 0.621999979019165, 0.621999979019165, 0.6219000220298767, 0.6219000220298767, 0.6219000220298767, 0.6219000220298767, 0.1193000003695488, -0.2151000052690506, -0.21529999375343323, -0.8317000269889832, -0.8317000269889832, -0.8317999839782715, -0.8319000005722046, -0.8319000005722046, -0.8319000005722046, -0.8320000171661377, -0.832099974155426, -0.8323000073432922, -0.8331999778747559, -0.8331999778747559, -0.833299994468689, -0.8334000110626221, -0.8334000110626221, -0.8335000276565552, -0.8335000276565552, -0.8335999846458435, -1.6309000253677368, 0.1664000004529953, 0.1664000004529953, 0.1662999987602234, 0.16619999706745148, 0.16609999537467957, 0.16599999368190765, 0.16599999368190765, 0.16580000519752502, 0.16580000519752502, 0.16580000519752502, 0.16580000519752502, 0.16580000519752502, 0.1657000035047531, 0.10769999772310257, 0.10760000348091125, 0.10760000348091125, 0.10700000077486038, 0.10670000314712524, 0.10639999806880951, 0.10599999874830246, 0.1046999990940094, 0.10429999977350235, 0.09619999676942825, 0.09619999676942825, 0.09610000252723694, 0.09600000083446503, 0.09600000083446503, 0.09600000083446503, 0.09589999914169312, 0.09589999914169312, -0.3262999951839447, -0.6600000262260437, -0.6625000238418579, -0.2921999990940094, -0.7014999985694885], \"logprob\": [30.0, 29.0, 28.0, 27.0, 26.0, 25.0, 24.0, 23.0, 22.0, 21.0, 20.0, 19.0, 18.0, 17.0, 16.0, 15.0, 14.0, 13.0, 12.0, 11.0, 10.0, 9.0, 8.0, 7.0, 6.0, 5.0, 4.0, 3.0, 2.0, 1.0, -2.3970999717712402, -3.3134000301361084, -3.3134000301361084, -3.3134000301361084, -3.3134000301361084, -3.3134000301361084, -3.313499927520752, -3.313499927520752, -3.313499927520752, -3.3150999546051025, -3.315200090408325, -3.315500020980835, -3.3155999183654785, -3.3155999183654785, -3.315700054168701, -3.3157999515533447, -3.3157999515533447, -3.3157999515533447, -2.7541000843048096, -2.7544000148773193, -3.3152999877929688, -4.698999881744385, -4.698999881744385, -4.699100017547607, -4.699100017547607, -4.69920015335083, -4.699100017547607, -4.69920015335083, -4.69920015335083, -4.69920015335083, -4.69920015335083, -4.698999881744385, -2.542799949645996, -3.102299928665161, -3.102299928665161, -3.102299928665161, -3.102299928665161, -3.102400064468384, -3.102299928665161, -3.102299928665161, -3.102299928665161, -3.102400064468384, -3.102400064468384, -3.102400064468384, -3.1024999618530273, -3.1024999618530273, -3.1026999950408936, -3.103300094604492, -3.103300094604492, -4.4882001876831055, -4.4882001876831055, -4.4882001876831055, -4.488100051879883, -4.48829984664917, -4.48829984664917, -4.4882001876831055, -4.488100051879883, -4.4882001876831055, -4.487800121307373, -4.487800121307373, -4.4878997802734375, -4.48799991607666, -4.48799991607666, -4.488100051879883, -4.488100051879883, -4.488100051879883, -4.487500190734863, -3.558000087738037, -3.558000087738037, -3.558000087738037, -3.558199882507324, -3.558300018310547, -3.558300018310547, -3.5583999156951904, -3.558500051498413, -3.558500051498413, -3.558500051498413, -3.558500051498413, -3.558500051498413, -3.558500051498413, -3.548799991607666, -3.548799991607666, -3.5488998889923096, -3.549299955368042, -3.5495998859405518, -3.5499000549316406, -3.5501999855041504, -3.551300048828125, -3.5517001152038574, -3.558300018310547, -3.5583999156951904, -3.558500051498413, -3.558500051498413, -3.558500051498413, -3.5585999488830566, -3.5585999488830566, -3.5587000846862793, -3.54830002784729, -3.5481998920440674, -3.55049991607666, -3.5576000213623047, -3.5580999851226807]}, \"token.table\": {\"Topic\": [2, 1, 1, 2, 2, 1, 2, 2, 1, 2, 1, 1, 2, 1, 1, 1, 2, 1, 1, 2, 2, 1, 1, 2, 1, 2, 1, 1, 1, 1, 2, 1, 2, 2, 1, 2, 2, 1], \"Freq\": [0.9638068079948425, 0.898844838142395, 0.9003269076347351, 0.9637635946273804, 0.9638035893440247, 0.8988381028175354, 0.9638234972953796, 0.9637566208839417, 0.9005946516990662, 0.6091080904006958, 0.8988307118415833, 0.8354331254959106, 0.4177165627479553, 0.9000703692436218, 0.8988480567932129, 0.8988180756568909, 0.9637712240219116, 0.8988419771194458, 0.8988785743713379, 0.9638458490371704, 0.9637554883956909, 0.9003955125808716, 0.9004887938499451, 0.9638599157333374, 0.5832132697105408, 0.5832132697105408, 0.8988698720932007, 0.9005741477012634, 0.9001429080963135, 0.8352532386779785, 0.41762661933898926, 0.9005809426307678, 0.9638471007347107, 0.963760256767273, 0.80939120054245, 0.9637587070465088, 0.9637899398803711, 0.900443971157074], \"Term\": [\"around\", \"bad\", \"better\", \"blood\", \"cause\", \"consume\", \"dance\", \"doctor\", \"drive\", \"driving\", \"expert\", \"father\", \"father\", \"feel\", \"good\", \"health\", \"increased\", \"lifestyle\", \"like\", \"lot\", \"may\", \"never\", \"perform\", \"practice\", \"pressure\", \"pressure\", \"say\", \"school\", \"seems\", \"sister\", \"sister\", \"sometimes\", \"spends\", \"stress\", \"sugar\", \"suggest\", \"time\", \"well\"]}, \"R\": 30, \"lambda.step\": 0.01, \"plot.opts\": {\"xlab\": \"PC1\", \"ylab\": \"PC2\"}, \"topic.order\": [2, 1, 3]};\n",
       "\n",
       "function LDAvis_load_lib(url, callback){\n",
       "  var s = document.createElement('script');\n",
       "  s.src = url;\n",
       "  s.async = true;\n",
       "  s.onreadystatechange = s.onload = callback;\n",
       "  s.onerror = function(){console.warn(\"failed to load library \" + url);};\n",
       "  document.getElementsByTagName(\"head\")[0].appendChild(s);\n",
       "}\n",
       "\n",
       "if(typeof(LDAvis) !== \"undefined\"){\n",
       "   // already loaded: just create the visualization\n",
       "   !function(LDAvis){\n",
       "       new LDAvis(\"#\" + \"ldavis_el124191398174531730408607649203\", ldavis_el124191398174531730408607649203_data);\n",
       "   }(LDAvis);\n",
       "}else if(typeof define === \"function\" && define.amd){\n",
       "   // require.js is available: use it to load d3/LDAvis\n",
       "   require.config({paths: {d3: \"https://cdnjs.cloudflare.com/ajax/libs/d3/3.5.5/d3.min\"}});\n",
       "   require([\"d3\"], function(d3){\n",
       "      window.d3 = d3;\n",
       "      LDAvis_load_lib(\"https://cdn.rawgit.com/bmabey/pyLDAvis/files/ldavis.v1.0.0.js\", function(){\n",
       "        new LDAvis(\"#\" + \"ldavis_el124191398174531730408607649203\", ldavis_el124191398174531730408607649203_data);\n",
       "      });\n",
       "    });\n",
       "}else{\n",
       "    // require.js not available: dynamically load d3 & LDAvis\n",
       "    LDAvis_load_lib(\"https://cdnjs.cloudflare.com/ajax/libs/d3/3.5.5/d3.min.js\", function(){\n",
       "         LDAvis_load_lib(\"https://cdn.rawgit.com/bmabey/pyLDAvis/files/ldavis.v1.0.0.js\", function(){\n",
       "                 new LDAvis(\"#\" + \"ldavis_el124191398174531730408607649203\", ldavis_el124191398174531730408607649203_data);\n",
       "            })\n",
       "         });\n",
       "}\n",
       "</script>"
      ],
      "text/plain": [
       "PreparedData(topic_coordinates=              x    y  topics  cluster       Freq\n",
       "topic                                           \n",
       "1     -0.089432  0.0       1        1  57.867287\n",
       "0      0.089407  0.0       2        1  41.683392\n",
       "2      0.000026  0.0       3        1   0.449315, topic_info=     Category      Freq       Term     Total  loglift  logprob\n",
       "term                                                          \n",
       "5     Default  2.000000      sugar  2.000000  30.0000  30.0000\n",
       "8     Default  1.000000    driving  1.000000  29.0000  29.0000\n",
       "22    Default  1.000000      drive  1.000000  28.0000  28.0000\n",
       "28    Default  1.000000  sometimes  1.000000  27.0000  27.0000\n",
       "26    Default  1.000000     school  1.000000  26.0000  26.0000\n",
       "25    Default  1.000000    perform  1.000000  25.0000  25.0000\n",
       "29    Default  1.000000       well  1.000000  24.0000  24.0000\n",
       "24    Default  1.000000      never  1.000000  23.0000  23.0000\n",
       "21    Default  1.000000     better  1.000000  22.0000  22.0000\n",
       "27    Default  1.000000      seems  1.000000  21.0000  21.0000\n",
       "23    Default  1.000000       feel  1.000000  20.0000  20.0000\n",
       "3     Default  1.000000       like  1.000000  19.0000  19.0000\n",
       "34    Default  1.000000        say  1.000000  18.0000  18.0000\n",
       "0     Default  1.000000        bad  1.000000  17.0000  17.0000\n",
       "1     Default  1.000000    consume  1.000000  16.0000  16.0000\n",
       "33    Default  1.000000  lifestyle  1.000000  15.0000  15.0000\n",
       "31    Default  1.000000       good  1.000000  14.0000  14.0000\n",
       "30    Default  1.000000     expert  1.000000  13.0000  13.0000\n",
       "32    Default  1.000000     health  1.000000  12.0000  12.0000\n",
       "10    Default  1.000000   practice  1.000000  11.0000  11.0000\n",
       "11    Default  1.000000     spends  1.000000  10.0000  10.0000\n",
       "9     Default  1.000000        lot  1.000000   9.0000   9.0000\n",
       "7     Default  1.000000      dance  1.000000   8.0000   8.0000\n",
       "6     Default  1.000000     around  1.000000   7.0000   7.0000\n",
       "14    Default  1.000000      cause  1.000000   6.0000   6.0000\n",
       "12    Default  1.000000       time  1.000000   5.0000   5.0000\n",
       "16    Default  1.000000  increased  1.000000   4.0000   4.0000\n",
       "13    Default  1.000000      blood  1.000000   3.0000   3.0000\n",
       "19    Default  1.000000     stress  1.000000   2.0000   2.0000\n",
       "20    Default  1.000000    suggest  1.000000   1.0000   1.0000\n",
       "...       ...       ...        ...       ...      ...      ...\n",
       "14     Topic3  0.005504      cause  1.037556   0.1660  -3.5583\n",
       "12     Topic3  0.005504       time  1.037570   0.1660  -3.5584\n",
       "16     Topic3  0.005503  increased  1.037591   0.1658  -3.5585\n",
       "13     Topic3  0.005503      blood  1.037599   0.1658  -3.5585\n",
       "19     Topic3  0.005503     stress  1.037602   0.1658  -3.5585\n",
       "15     Topic3  0.005503     doctor  1.037606   0.1658  -3.5585\n",
       "20     Topic3  0.005503    suggest  1.037604   0.1658  -3.5585\n",
       "17     Topic3  0.005503        may  1.037608   0.1657  -3.5585\n",
       "22     Topic3  0.005557      drive  1.110377   0.1077  -3.5488\n",
       "28     Topic3  0.005556  sometimes  1.110394   0.1076  -3.5488\n",
       "26     Topic3  0.005556     school  1.110403   0.1076  -3.5489\n",
       "25     Topic3  0.005553    perform  1.110508   0.1070  -3.5493\n",
       "29     Topic3  0.005552       well  1.110563   0.1067  -3.5496\n",
       "24     Topic3  0.005550      never  1.110623   0.1064  -3.5499\n",
       "21     Topic3  0.005548     better  1.110708   0.1060  -3.5502\n",
       "27     Topic3  0.005543      seems  1.110935   0.1047  -3.5513\n",
       "23     Topic3  0.005541       feel  1.111024   0.1043  -3.5517\n",
       "3      Topic3  0.005504       like  1.112497   0.0962  -3.5583\n",
       "34     Topic3  0.005503        say  1.112508   0.0962  -3.5584\n",
       "0      Topic3  0.005503        bad  1.112539   0.0961  -3.5585\n",
       "31     Topic3  0.005503       good  1.112535   0.0960  -3.5585\n",
       "33     Topic3  0.005503  lifestyle  1.112543   0.0960  -3.5585\n",
       "1      Topic3  0.005503    consume  1.112547   0.0960  -3.5586\n",
       "30     Topic3  0.005502     expert  1.112557   0.0959  -3.5586\n",
       "32     Topic3  0.005502     health  1.112572   0.0959  -3.5587\n",
       "18     Topic3  0.005559   pressure  1.714639  -0.3263  -3.5483\n",
       "2      Topic3  0.005560     father  2.393968  -0.6600  -3.5482\n",
       "4      Topic3  0.005547     sister  2.394483  -0.6625  -3.5505\n",
       "8      Topic3  0.005508    driving  1.641745  -0.2922  -3.5576\n",
       "5      Topic3  0.005505      sugar  2.470993  -0.7015  -3.5581\n",
       "\n",
       "[132 rows x 6 columns], token_table=      Topic      Freq       Term\n",
       "term                            \n",
       "6         2  0.963807     around\n",
       "0         1  0.898845        bad\n",
       "21        1  0.900327     better\n",
       "13        2  0.963764      blood\n",
       "14        2  0.963804      cause\n",
       "1         1  0.898838    consume\n",
       "7         2  0.963823      dance\n",
       "15        2  0.963757     doctor\n",
       "22        1  0.900595      drive\n",
       "8         2  0.609108    driving\n",
       "30        1  0.898831     expert\n",
       "2         1  0.835433     father\n",
       "2         2  0.417717     father\n",
       "23        1  0.900070       feel\n",
       "31        1  0.898848       good\n",
       "32        1  0.898818     health\n",
       "16        2  0.963771  increased\n",
       "33        1  0.898842  lifestyle\n",
       "3         1  0.898879       like\n",
       "9         2  0.963846        lot\n",
       "17        2  0.963755        may\n",
       "24        1  0.900396      never\n",
       "25        1  0.900489    perform\n",
       "10        2  0.963860   practice\n",
       "18        1  0.583213   pressure\n",
       "18        2  0.583213   pressure\n",
       "34        1  0.898870        say\n",
       "26        1  0.900574     school\n",
       "27        1  0.900143      seems\n",
       "4         1  0.835253     sister\n",
       "4         2  0.417627     sister\n",
       "28        1  0.900581  sometimes\n",
       "11        2  0.963847     spends\n",
       "19        2  0.963760     stress\n",
       "5         1  0.809391      sugar\n",
       "20        2  0.963759    suggest\n",
       "12        2  0.963790       time\n",
       "29        1  0.900444       well, R=30, lambda_step=0.01, plot_opts={'xlab': 'PC1', 'ylab': 'PC2'}, topic_order=[2, 1, 3])"
      ]
     },
     "execution_count": 65,
     "metadata": {},
     "output_type": "execute_result"
    }
   ],
   "source": [
    "# Visualize the topics\n",
    "pyLDAvis.enable_notebook()\n",
    "vis = pyLDAvis.gensim.prepare(lda_model, doc_term_matrix, dictionary)\n",
    "vis"
   ]
  },
  {
   "cell_type": "code",
   "execution_count": null,
   "metadata": {},
   "outputs": [],
   "source": []
  }
 ],
 "metadata": {
  "kernelspec": {
   "display_name": "Python 3",
   "language": "python",
   "name": "python3"
  },
  "language_info": {
   "codemirror_mode": {
    "name": "ipython",
    "version": 3
   },
   "file_extension": ".py",
   "mimetype": "text/x-python",
   "name": "python",
   "nbconvert_exporter": "python",
   "pygments_lexer": "ipython3",
   "version": "3.6.4"
  }
 },
 "nbformat": 4,
 "nbformat_minor": 2
}
